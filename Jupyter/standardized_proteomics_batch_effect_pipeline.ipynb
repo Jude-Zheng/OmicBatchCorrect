{
 "cells": [
  {
   "cell_type": "markdown",
   "id": "ccf0d19b",
   "metadata": {},
   "source": [
    " <font color=black size=5>**1.Piptides data clean<br>\n",
    "    2. peptides maxLFQ<br>\n",
    " 3. protein missing value impute<br>\n",
    " 4. protein batch correction<br>\n",
    " 5. QC**<br>"
   ]
  },
  {
   "cell_type": "markdown",
   "id": "dfca079c",
   "metadata": {},
   "source": [
    "# 1. Piptides data clean"
   ]
  },
  {
   "cell_type": "code",
   "execution_count": 2,
   "id": "93aa4f21",
   "metadata": {
    "ExecuteTime": {
     "end_time": "2022-09-27T09:37:06.326999Z",
     "start_time": "2022-09-27T09:37:05.979634Z"
    }
   },
   "outputs": [],
   "source": [
    "import pandas as pd\n",
    "import openpyxl\n",
    "import xlsxwriter\n",
    "import numpy as np\n",
    "import os\n",
    "import re\n",
    "import fancyimpute"
   ]
  },
  {
   "cell_type": "code",
   "execution_count": 3,
   "id": "493d3272",
   "metadata": {
    "ExecuteTime": {
     "end_time": "2022-09-27T09:37:06.636388Z",
     "start_time": "2022-09-27T09:37:06.632949Z"
    }
   },
   "outputs": [],
   "source": [
    "report_data = \"/home/zhl/projects/batch_effect_correction/new_results/\"\n",
    "os.chdir(report_data)\n",
    "#group path\n",
    "group_data = \"/home/zhl/projects/batch_effect_correction/new_results/group_new.xls\""
   ]
  },
  {
   "cell_type": "markdown",
   "id": "fdda1899",
   "metadata": {},
   "source": [
    "### 1.1  EG.PrecursorId "
   ]
  },
  {
   "cell_type": "code",
   "execution_count": 4,
   "id": "f0be447f",
   "metadata": {
    "ExecuteTime": {
     "end_time": "2022-08-10T08:37:06.914179Z",
     "start_time": "2022-08-10T08:36:52.171110Z"
    }
   },
   "outputs": [],
   "source": [
    "data = pd.read_table(\"20180509_104033_Multiple site study_ReportPeptides.xls\",low_memory=False,na_values=\"Filtered\")\n",
    "data['EG.PrecursorId']=data['EG.PrecursorId'].str.replace(\"_.\\d$\",'',regex=True)\n",
    "df = data.drop_duplicates(subset=[\"EG.PrecursorId\",\"PG.FASTAName\"])\n",
    "df = df.drop(df.columns[3],axis=1)\n",
    "df.reset_index(drop=True,inplace = True)"
   ]
  },
  {
   "cell_type": "markdown",
   "id": "5080535b",
   "metadata": {},
   "source": [
    "### 1.2  clean samples' name"
   ]
  },
  {
   "cell_type": "code",
   "execution_count": 5,
   "id": "a840815d",
   "metadata": {
    "ExecuteTime": {
     "end_time": "2022-08-10T08:37:07.146168Z",
     "start_time": "2022-08-10T08:37:07.143571Z"
    }
   },
   "outputs": [],
   "source": [
    "df_name = []\n",
    "for col in df.columns:\n",
    "    if \"]\" in col:\n",
    "        col = col.split(\"] \",1)[1].replace(\"-\",\"_\").replace(\"Lab_\",'')\n",
    "    else:\n",
    "        col = col.split(\"] \",1)[0]\n",
    "    df_name.append(col)\n",
    "df.columns = df_name"
   ]
  },
  {
   "cell_type": "code",
   "execution_count": 8,
   "id": "28d0ed7b",
   "metadata": {
    "ExecuteTime": {
     "end_time": "2022-08-10T08:37:20.476088Z",
     "start_time": "2022-08-10T08:37:20.268850Z"
    }
   },
   "outputs": [
    {
     "data": {
      "text/plain": [
       "ASround1_Day_1_Sample_A_Rep_1.raw.EG.Qvalue    0.009999\n",
       "ASround1_Day_1_Sample_A_Rep_2.raw.EG.Qvalue    0.009997\n",
       "ASround1_Day_1_Sample_A_Rep_3.raw.EG.Qvalue    0.009999\n",
       "ASround1_Day_1_Sample_B_Rep_1.raw.EG.Qvalue    0.009996\n",
       "ASround1_Day_1_Sample_B_Rep_2.raw.EG.Qvalue    0.009999\n",
       "                                                 ...   \n",
       "VUMC_Day_7_Sample_A_Rep_2.raw.EG.Qvalue        0.009989\n",
       "VUMC_Day_7_Sample_A_Rep_3.raw.EG.Qvalue        0.009997\n",
       "VUMC_Day_7_Sample_B_Rep_1.raw.EG.Qvalue        0.010000\n",
       "VUMC_Day_7_Sample_B_Rep_2.raw.EG.Qvalue        0.010000\n",
       "VUMC_Day_7_Sample_B_Rep_3.raw.EG.Qvalue        0.009997\n",
       "Length: 305, dtype: float64"
      ]
     },
     "execution_count": 8,
     "metadata": {},
     "output_type": "execute_result"
    }
   ],
   "source": [
    "df[df.columns[df.columns.str.contains('EG.Qvalue')]].max(skipna=True)#Qvalue <= 1%"
   ]
  },
  {
   "cell_type": "markdown",
   "id": "12f232a7",
   "metadata": {},
   "source": [
    "### 1.3   protein & peptides data  filtered sample species"
   ]
  },
  {
   "cell_type": "code",
   "execution_count": 28,
   "id": "575c911f",
   "metadata": {},
   "outputs": [
    {
     "data": {
      "text/plain": [
       "'\\nspecies = df[\"PG.FASTAName\"].unique()\\nprint(species)\\n\\ndf_ = df[df[\"PG.FASTAName\"]==species[0]]\\n\\n#drop sample_B\\ndf_protein = df_[df_.columns[~df_.columns.str.contains(\\'EG.Qvalue|PEP.Quantity|Sample_B\\')]]\\ndf_protein = df_protein.drop(df_protein.columns[[1,3]],axis=1)\\n'"
      ]
     },
     "execution_count": 28,
     "metadata": {},
     "output_type": "execute_result"
    }
   ],
   "source": [
    "## 筛选 物种；sample种类\n",
    "'''\n",
    "species = df[\"PG.FASTAName\"].unique()\n",
    "print(species)\n",
    "\n",
    "df_ = df[df[\"PG.FASTAName\"]==species[0]]\n",
    "\n",
    "#drop sample_B\n",
    "df_protein = df_[df_.columns[~df_.columns.str.contains('EG.Qvalue|PEP.Quantity|Sample_B')]]\n",
    "df_protein = df_protein.drop(df_protein.columns[[1,3]],axis=1)\n",
    "'''"
   ]
  },
  {
   "cell_type": "markdown",
   "id": "4730d34c",
   "metadata": {},
   "source": [
    "### 1.4.1 Protein"
   ]
  },
  {
   "cell_type": "code",
   "execution_count": 9,
   "id": "d11bbca1",
   "metadata": {
    "ExecuteTime": {
     "end_time": "2022-08-10T08:37:25.377609Z",
     "start_time": "2022-08-10T08:37:25.291242Z"
    }
   },
   "outputs": [],
   "source": [
    "#delete Qvalue, peptide\n",
    "df_protein = df[df.columns[~df.columns.str.contains('EG.Qvalue|PEP.Quantity')]]\n",
    "df_protein = df_protein.drop_duplicates(subset=[\"PG.FASTAName\",\"PG.ProteinAccessions\"])\n",
    "df_protein = df_protein.drop(\"EG.PrecursorId\",axis=1)"
   ]
  },
  {
   "cell_type": "markdown",
   "id": "2184d235",
   "metadata": {},
   "source": [
    "### 1.4.2 Peptides "
   ]
  },
  {
   "cell_type": "code",
   "execution_count": 10,
   "id": "c4d4e64f",
   "metadata": {
    "ExecuteTime": {
     "end_time": "2022-08-10T08:37:26.884227Z",
     "start_time": "2022-08-10T08:37:26.828166Z"
    }
   },
   "outputs": [],
   "source": [
    "df_pep = df[df.columns[~df.columns.str.contains('EG.Qvalue|PG.Quantity')]]\n",
    "\n",
    "df_pep_name = []\n",
    "for col in df_pep.columns:\n",
    "    col = col.split(\".raw.PEP.Quantity\",1)[0]\n",
    "    col = re.sub(r'Sample_', '', col)\n",
    "    df_pep_name.append(col)\n",
    "df_pep.columns = df_pep_name\n",
    "\n",
    "df_pep.index = df_pep[\"EG.PrecursorId\"]"
   ]
  },
  {
   "cell_type": "markdown",
   "id": "c3fb3f17",
   "metadata": {},
   "source": [
    "# 2. Peptides maxLFQ"
   ]
  },
  {
   "cell_type": "code",
   "execution_count": 11,
   "id": "8413fc25",
   "metadata": {
    "ExecuteTime": {
     "end_time": "2022-08-10T08:37:29.438385Z",
     "start_time": "2022-08-10T08:37:29.003475Z"
    }
   },
   "outputs": [],
   "source": [
    "df_pep_num = df_pep.iloc[:,3:]\n",
    "df_pep_num[df_pep_num <= 100] = np.nan\n",
    "df_pep_num.dropna(axis=1,thresh=100,inplace = True)\n",
    "df_pep_num.dropna(axis=0,thresh=1,inplace = True)"
   ]
  },
  {
   "cell_type": "code",
   "execution_count": 12,
   "id": "3861b373",
   "metadata": {
    "ExecuteTime": {
     "end_time": "2022-08-10T08:37:33.309998Z",
     "start_time": "2022-08-10T08:37:33.243581Z"
    }
   },
   "outputs": [],
   "source": [
    "raw_pep = pd.merge(df_pep.loc[:,[\"EG.PrecursorId\",\"PG.FASTAName\",\"PG.ProteinAccessions\"]],df_pep_num,\n",
    "                         how=\"right\",left_index = True,right_index = True)"
   ]
  },
  {
   "cell_type": "code",
   "execution_count": 13,
   "id": "1d27380d",
   "metadata": {
    "ExecuteTime": {
     "end_time": "2022-08-10T08:38:05.871841Z",
     "start_time": "2022-08-10T08:37:35.064297Z"
    }
   },
   "outputs": [],
   "source": [
    "#Save long format pipetides_raw.csv\n",
    "raw_long = raw_pep.melt(id_vars = raw_pep.columns[0:3],var_name=\"R.FileName\",value_name=\"PEP.Quantity\")\n",
    "raw_long.dropna().round(3).to_csv(\"/home/zhl/projects/batch_effect_correction/new_results/peptides_raw_long.csv\")"
   ]
  },
  {
   "cell_type": "markdown",
   "id": "eddeafd6",
   "metadata": {},
   "source": [
    "**<font color=green size=4>raw peptide data MaxLFQ**"
   ]
  },
  {
   "cell_type": "code",
   "execution_count": 14,
   "id": "1a86921a",
   "metadata": {
    "ExecuteTime": {
     "end_time": "2022-08-10T08:38:37.792484Z",
     "start_time": "2022-08-10T08:38:06.198594Z"
    }
   },
   "outputs": [
    {
     "name": "stderr",
     "output_type": "stream",
     "text": [
      "\n",
      "载入程辑包：‘dplyr’\n",
      "\n",
      "The following objects are masked from ‘package:stats’:\n",
      "\n",
      "    filter, lag\n",
      "\n",
      "The following objects are masked from ‘package:base’:\n",
      "\n",
      "    intersect, setdiff, setequal, union\n",
      "\n",
      "\n",
      "载入程辑包：‘data.table’\n",
      "\n",
      "The following objects are masked from ‘package:dplyr’:\n",
      "\n",
      "    between, first, last\n",
      "\n",
      "Concatenating secondary ids...\n",
      "\n",
      "Removing low intensities...\n",
      "\n"
     ]
    },
    {
     "name": "stdout",
     "output_type": "stream",
     "text": [
      "nrow = 15946548, # proteins = 9164, # samples = 305\n",
      "23 thread(s) available...\n",
      "0%\n",
      "5%\n",
      "10%\n",
      "15%\n",
      "21%\n",
      "26%\n",
      "31%\n",
      "36%\n",
      "42%\n",
      "47%\n",
      "52%\n",
      "57%\n",
      "62%\n",
      "67%\n",
      "72%\n",
      "78%\n",
      "83%\n",
      "88%\n",
      "93%\n",
      "98%\n",
      "Completed.\n"
     ]
    },
    {
     "data": {
      "text/plain": [
       "0"
      ]
     },
     "execution_count": 14,
     "metadata": {},
     "output_type": "execute_result"
    }
   ],
   "source": [
    "os.system('Rscript /home/zhl/projects/batch_effect_correction/new_results/R/1.maxLFQ_proteingroup.R {0} {1}'.format(\"/home/zhl/projects/batch_effect_correction/new_results/peptides_raw_long.csv\",\n",
    "                                                                                                  \"/home/zhl/projects/batch_effect_correction/new_results/Protein_raw_maxLFQ.csv\"))\n"
   ]
  },
  {
   "cell_type": "markdown",
   "id": "290264db",
   "metadata": {},
   "source": [
    "# 2. missing value process"
   ]
  },
  {
   "cell_type": "markdown",
   "id": "2d8c20b1",
   "metadata": {},
   "source": [
    "**peptide** missing value<60% knn impute missing value"
   ]
  },
  {
   "cell_type": "code",
   "execution_count": 17,
   "id": "927c33e6",
   "metadata": {
    "ExecuteTime": {
     "end_time": "2022-08-10T08:42:04.997636Z",
     "start_time": "2022-08-10T08:41:20.503520Z"
    }
   },
   "outputs": [
    {
     "name": "stdout",
     "output_type": "stream",
     "text": [
      "Imputing row 1/305 with 9850 missing, elapsed time: 26.082\n",
      "Imputing row 101/305 with 8814 missing, elapsed time: 29.891\n",
      "Imputing row 201/305 with 22021 missing, elapsed time: 34.549\n",
      "Imputing row 301/305 with 14422 missing, elapsed time: 38.335\n"
     ]
    }
   ],
   "source": [
    "raw_pep.index = raw_pep[\"EG.PrecursorId\"]\n",
    "raw_pep_num = raw_pep.iloc[:,3:]\n",
    "raw_pep_num[raw_pep_num <= 100] = np.nan\n",
    "raw_pep_num.dropna(axis=0,thresh=raw_pep_num.shape[1]*0.4,inplace = True)\n",
    "raw_pep_num = raw_pep_num.T\n",
    "raw_pep_impute = fancyimpute.KNN(k=15).fit_transform(raw_pep_num.values) #knn按列进行填充\n",
    "raw_pep_impute = pd.DataFrame(raw_pep_impute, columns=list(raw_pep_num.columns), index=raw_pep_num.index).T\n",
    "\n",
    "pep_impute = pd.merge(raw_pep.loc[:,[\"EG.PrecursorId\",\"PG.FASTAName\",\"PG.ProteinAccessions\"]],raw_pep_impute,\n",
    "                         how=\"right\",left_index = True,right_index = True)\n",
    "pep_impute.round(3).to_csv(\"/home/zhl/projects/batch_effect_correction/new_results/peptides_raw_matrix_impute0.4.csv\",index=False)"
   ]
  },
  {
   "cell_type": "markdown",
   "id": "f4cd1964",
   "metadata": {},
   "source": [
    "## Protein"
   ]
  },
  {
   "cell_type": "code",
   "execution_count": 18,
   "id": "8405bedc",
   "metadata": {
    "ExecuteTime": {
     "end_time": "2022-08-10T08:42:10.264365Z",
     "start_time": "2022-08-10T08:42:10.047486Z"
    }
   },
   "outputs": [],
   "source": [
    "df_protein = pd.read_csv(\"/home/zhl/projects/batch_effect_correction/new_results/Protein_raw_maxLFQ.csv\",\n",
    "                        low_memory=False) #index: Protein"
   ]
  },
  {
   "cell_type": "markdown",
   "id": "958735e4",
   "metadata": {},
   "source": [
    "<font color=red size=3>missing value < 50%"
   ]
  },
  {
   "cell_type": "code",
   "execution_count": 19,
   "id": "956d6972",
   "metadata": {
    "ExecuteTime": {
     "end_time": "2022-08-10T08:42:18.335421Z",
     "start_time": "2022-08-10T08:42:18.308096Z"
    }
   },
   "outputs": [],
   "source": [
    "df_protein.index = df_protein[\"Protein\"]\n",
    "df_protein_num = df_protein.iloc[:,2:]\n",
    "df_protein_num[df_protein_num <= 100] = np.nan\n",
    "df_protein_num.dropna(axis=0,thresh=df_protein_num.shape[1]*0.5,inplace = True) #or 0.4\n",
    "df_protein_num = df_protein_num.T\n",
    "#df_protein_num.fillna(1,inplace=True)"
   ]
  },
  {
   "cell_type": "markdown",
   "id": "5eeecac4",
   "metadata": {},
   "source": [
    "<font color=red size=3>knn impute missing value"
   ]
  },
  {
   "cell_type": "code",
   "execution_count": 20,
   "id": "9e29ca6e",
   "metadata": {
    "ExecuteTime": {
     "end_time": "2022-08-10T08:42:25.745645Z",
     "start_time": "2022-08-10T08:42:22.271266Z"
    }
   },
   "outputs": [
    {
     "name": "stdout",
     "output_type": "stream",
     "text": [
      "Imputing row 1/305 with 904 missing, elapsed time: 2.388\n",
      "Imputing row 101/305 with 825 missing, elapsed time: 2.723\n",
      "Imputing row 201/305 with 2531 missing, elapsed time: 3.137\n",
      "Imputing row 301/305 with 811 missing, elapsed time: 3.438\n"
     ]
    }
   ],
   "source": [
    "df_protein_impute = fancyimpute.KNN(k=15).fit_transform(df_protein_num.values) #knn按列进行填充\n",
    "df_protein_impute = pd.DataFrame(df_protein_impute, columns=list(df_protein_num.columns), index=df_protein_num.index).T"
   ]
  },
  {
   "cell_type": "code",
   "execution_count": 21,
   "id": "2872fbd5",
   "metadata": {
    "ExecuteTime": {
     "end_time": "2022-08-10T08:42:35.846620Z",
     "start_time": "2022-08-10T08:42:35.840774Z"
    }
   },
   "outputs": [],
   "source": [
    "dsr = pd.merge(df_protein.loc[:,[\"Protein\",\"PG.FASTAName\"]],df_protein_impute,\n",
    "                         how=\"right\",left_index = True,right_index = True)"
   ]
  },
  {
   "cell_type": "code",
   "execution_count": 22,
   "id": "f690037b",
   "metadata": {
    "ExecuteTime": {
     "end_time": "2022-08-10T08:43:05.687337Z",
     "start_time": "2022-08-10T08:43:03.529528Z"
    }
   },
   "outputs": [],
   "source": [
    "#Save\n",
    "#col = [0]+list(range(2,dsr.shape[1]))\n",
    "dsr.round(3).to_csv(\"/home/zhl/projects/batch_effect_correction/new_results/Protein_raw_maxLFQ_impute0.4.csv\",index=False)\n",
    "dsr.T.iloc[2:,:].round(3).to_csv(\"/home/zhl/projects/batch_effect_correction/new_results/Protein_raw_maxLFQ_impute0.4_T.csv\")\n",
    "del [data,df_pep,df_protein,dsr]"
   ]
  },
  {
   "cell_type": "markdown",
   "id": "d733c5cb",
   "metadata": {},
   "source": [
    "# 3. batch effect correct"
   ]
  },
  {
   "cell_type": "code",
   "execution_count": 4,
   "id": "8950accd",
   "metadata": {
    "ExecuteTime": {
     "end_time": "2022-09-27T09:37:19.240288Z",
     "start_time": "2022-09-27T09:37:18.257544Z"
    }
   },
   "outputs": [
    {
     "name": "stderr",
     "output_type": "stream",
     "text": [
      "\n",
      "载入程辑包：‘dplyr’\n",
      "\n",
      "The following objects are masked from ‘package:data.table’:\n",
      "\n",
      "    between, first, last\n",
      "\n",
      "The following objects are masked from ‘package:stats’:\n",
      "\n",
      "    filter, lag\n",
      "\n",
      "The following objects are masked from ‘package:base’:\n",
      "\n",
      "    intersect, setdiff, setequal, union\n",
      "\n"
     ]
    },
    {
     "data": {
      "text/plain": [
       "0"
      ]
     },
     "execution_count": 4,
     "metadata": {},
     "output_type": "execute_result"
    }
   ],
   "source": [
    "# R\n",
    "#\"/home/boot/Script/test/batch_pipeline/R\"\n",
    "# 2.data_preprocess.R (normalization; group information) save ds.RData\n",
    "os.system('Rscript /home/zhl/projects/batch_effect_correction/new_results/R/2.data_preprocess.R {0} {1} {2}'.format(\"/home/zhl/projects/batch_effect_correction/new_results/Protein_raw_maxLFQ_impute0.4_T.csv\",\n",
    "                                                                                                                  group_data,\n",
    "                                                                                                                  \"/home/zhl/projects/batch_effect_correction/new_results/\"))\n"
   ]
  },
  {
   "cell_type": "code",
   "execution_count": 8,
   "id": "589cfd79",
   "metadata": {
    "ExecuteTime": {
     "end_time": "2022-09-27T09:56:09.882242Z",
     "start_time": "2022-09-27T09:55:11.819318Z"
    }
   },
   "outputs": [
    {
     "name": "stdout",
     "output_type": "stream",
     "text": [
      "[1] \"raw finish!!\"\n"
     ]
    },
    {
     "name": "stderr",
     "output_type": "stream",
     "text": [
      "载入需要的程辑包：mgcv\n",
      "载入需要的程辑包：nlme\n",
      "This is mgcv 1.8-40. For overview type 'help(\"mgcv-package\")'.\n",
      "载入需要的程辑包：genefilter\n",
      "载入需要的程辑包：BiocParallel\n",
      "Found12batches\n",
      "Adjusting for0covariate(s) or covariate level(s)\n",
      "Standardizing Data across genes\n",
      "Fitting L/S model and finding priors\n",
      "Finding parametric adjustments\n",
      "Adjusting the Data\n",
      "\n"
     ]
    },
    {
     "name": "stdout",
     "output_type": "stream",
     "text": [
      "[1] \"Combat finish!!\"\n"
     ]
    },
    {
     "name": "stderr",
     "output_type": "stream",
     "text": [
      "载入需要的程辑包：Biobase\n",
      "载入需要的程辑包：BiocGenerics\n",
      "\n",
      "载入程辑包：‘BiocGenerics’\n",
      "\n",
      "The following objects are masked from ‘package:stats’:\n",
      "\n",
      "    IQR, mad, sd, var, xtabs\n",
      "\n",
      "The following objects are masked from ‘package:base’:\n",
      "\n",
      "    anyDuplicated, append, as.data.frame, basename, cbind, colnames,\n",
      "    dirname, do.call, duplicated, eval, evalq, Filter, Find, get, grep,\n",
      "    grepl, intersect, is.unsorted, lapply, Map, mapply, match, mget,\n",
      "    order, paste, pmax, pmax.int, pmin, pmin.int, Position, rank,\n",
      "    rbind, Reduce, rownames, sapply, setdiff, sort, table, tapply,\n",
      "    union, unique, unsplit, which.max, which.min\n",
      "\n",
      "Welcome to Bioconductor\n",
      "\n",
      "    Vignettes contain introductory material; view with\n",
      "    'browseVignettes()'. To cite Bioconductor, see\n",
      "    'citation(\"Biobase\")', and for packages 'citation(\"pkgname\")'.\n",
      "\n",
      "载入需要的程辑包：EDASeq\n",
      "载入需要的程辑包：ShortRead\n",
      "载入需要的程辑包：Biostrings\n",
      "载入需要的程辑包：S4Vectors\n",
      "载入需要的程辑包：stats4\n",
      "\n",
      "载入程辑包：‘S4Vectors’\n",
      "\n",
      "The following objects are masked from ‘package:data.table’:\n",
      "\n",
      "    first, second\n",
      "\n",
      "The following objects are masked from ‘package:base’:\n",
      "\n",
      "    expand.grid, I, unname\n",
      "\n",
      "载入需要的程辑包：IRanges\n",
      "\n",
      "载入程辑包：‘IRanges’\n",
      "\n",
      "The following object is masked from ‘package:nlme’:\n",
      "\n",
      "    collapse\n",
      "\n",
      "The following object is masked from ‘package:data.table’:\n",
      "\n",
      "    shift\n",
      "\n",
      "载入需要的程辑包：XVector\n",
      "载入需要的程辑包：GenomeInfoDb\n",
      "\n",
      "载入程辑包：‘Biostrings’\n",
      "\n",
      "The following object is masked from ‘package:base’:\n",
      "\n",
      "    strsplit\n",
      "\n",
      "载入需要的程辑包：Rsamtools\n",
      "载入需要的程辑包：GenomicRanges\n",
      "载入需要的程辑包：GenomicAlignments\n",
      "载入需要的程辑包：SummarizedExperiment\n",
      "载入需要的程辑包：MatrixGenerics\n",
      "载入需要的程辑包：matrixStats\n",
      "\n",
      "载入程辑包：‘matrixStats’\n",
      "\n",
      "The following objects are masked from ‘package:Biobase’:\n",
      "\n",
      "    anyMissing, rowMedians\n",
      "\n",
      "The following objects are masked from ‘package:genefilter’:\n",
      "\n",
      "    rowSds, rowVars\n",
      "\n",
      "\n",
      "载入程辑包：‘MatrixGenerics’\n",
      "\n",
      "The following objects are masked from ‘package:matrixStats’:\n",
      "\n",
      "    colAlls, colAnyNAs, colAnys, colAvgsPerRowSet, colCollapse,\n",
      "    colCounts, colCummaxs, colCummins, colCumprods, colCumsums,\n",
      "    colDiffs, colIQRDiffs, colIQRs, colLogSumExps, colMadDiffs,\n",
      "    colMads, colMaxs, colMeans2, colMedians, colMins, colOrderStats,\n",
      "    colProds, colQuantiles, colRanges, colRanks, colSdDiffs, colSds,\n",
      "    colSums2, colTabulates, colVarDiffs, colVars, colWeightedMads,\n",
      "    colWeightedMeans, colWeightedMedians, colWeightedSds,\n",
      "    colWeightedVars, rowAlls, rowAnyNAs, rowAnys, rowAvgsPerColSet,\n",
      "    rowCollapse, rowCounts, rowCummaxs, rowCummins, rowCumprods,\n",
      "    rowCumsums, rowDiffs, rowIQRDiffs, rowIQRs, rowLogSumExps,\n",
      "    rowMadDiffs, rowMads, rowMaxs, rowMeans2, rowMedians, rowMins,\n",
      "    rowOrderStats, rowProds, rowQuantiles, rowRanges, rowRanks,\n",
      "    rowSdDiffs, rowSds, rowSums2, rowTabulates, rowVarDiffs, rowVars,\n",
      "    rowWeightedMads, rowWeightedMeans, rowWeightedMedians,\n",
      "    rowWeightedSds, rowWeightedVars\n",
      "\n",
      "The following object is masked from ‘package:Biobase’:\n",
      "\n",
      "    rowMedians\n",
      "\n",
      "The following objects are masked from ‘package:genefilter’:\n",
      "\n",
      "    rowSds, rowVars\n",
      "\n",
      "\n",
      "载入程辑包：‘GenomicAlignments’\n",
      "\n",
      "The following object is masked from ‘package:data.table’:\n",
      "\n",
      "    last\n",
      "\n",
      "\n",
      "载入程辑包：‘ShortRead’\n",
      "\n",
      "The following object is masked from ‘package:data.table’:\n",
      "\n",
      "    tables\n",
      "\n",
      "载入需要的程辑包：edgeR\n",
      "载入需要的程辑包：limma\n",
      "\n",
      "载入程辑包：‘limma’\n",
      "\n",
      "The following object is masked from ‘package:BiocGenerics’:\n",
      "\n",
      "    plotMA\n",
      "\n"
     ]
    },
    {
     "name": "stdout",
     "output_type": "stream",
     "text": [
      "[1] \"RUVs finish!!\"\n",
      "[1] \"RUVg finish!!\"\n",
      "[1] \"RUVIII finish!!\"\n"
     ]
    },
    {
     "name": "stderr",
     "output_type": "stream",
     "text": [
      "\n",
      "载入程辑包：‘dplyr’\n",
      "\n",
      "The following object is masked from ‘package:ShortRead’:\n",
      "\n",
      "    id\n",
      "\n",
      "The following objects are masked from ‘package:GenomicAlignments’:\n",
      "\n",
      "    first, last\n",
      "\n",
      "The following object is masked from ‘package:matrixStats’:\n",
      "\n",
      "    count\n",
      "\n",
      "The following objects are masked from ‘package:GenomicRanges’:\n",
      "\n",
      "    intersect, setdiff, union\n",
      "\n",
      "The following objects are masked from ‘package:Biostrings’:\n",
      "\n",
      "    collapse, intersect, setdiff, setequal, union\n",
      "\n",
      "The following object is masked from ‘package:GenomeInfoDb’:\n",
      "\n",
      "    intersect\n",
      "\n",
      "The following object is masked from ‘package:XVector’:\n",
      "\n",
      "    slice\n",
      "\n",
      "The following objects are masked from ‘package:IRanges’:\n",
      "\n",
      "    collapse, desc, intersect, setdiff, slice, union\n",
      "\n",
      "The following objects are masked from ‘package:S4Vectors’:\n",
      "\n",
      "    first, intersect, rename, setdiff, setequal, union\n",
      "\n",
      "The following object is masked from ‘package:Biobase’:\n",
      "\n",
      "    combine\n",
      "\n",
      "The following objects are masked from ‘package:BiocGenerics’:\n",
      "\n",
      "    combine, intersect, setdiff, union\n",
      "\n",
      "The following object is masked from ‘package:nlme’:\n",
      "\n",
      "    collapse\n",
      "\n",
      "The following objects are masked from ‘package:data.table’:\n",
      "\n",
      "    between, first, last\n",
      "\n",
      "The following objects are masked from ‘package:stats’:\n",
      "\n",
      "    filter, lag\n",
      "\n",
      "The following objects are masked from ‘package:base’:\n",
      "\n",
      "    intersect, setdiff, setequal, union\n",
      "\n"
     ]
    },
    {
     "name": "stdout",
     "output_type": "stream",
     "text": [
      "[1] \"Median-Norm finish!!\"\n",
      "[1] \"QC-Mnorm finish!!\"\n",
      "[1] \"Limma finish!!\"\n"
     ]
    },
    {
     "data": {
      "text/plain": [
       "0"
      ]
     },
     "execution_count": 8,
     "metadata": {},
     "output_type": "execute_result"
    }
   ],
   "source": [
    "# 3.batch_Correction.R\n",
    "os.system('Rscript /home/zhl/projects/batch_effect_correction/new_results/R/3.batch_Correction_method.R {0} {1} {2}'.format(\n",
    "                        \"/home/zhl/projects/batch_effect_correction/new_results/ds.RData\",\n",
    "                        \"/home/zhl/projects/batch_effect_correction/new_results/Protein_raw_maxLFQ_impute0.4.csv\",\n",
    "                        \"/home/zhl/projects/batch_effect_correction/new_results/protein_after_batch/\"))"
   ]
  },
  {
   "cell_type": "markdown",
   "id": "b8b926de",
   "metadata": {},
   "source": [
    "# 5. QC (PCA,boxplot)"
   ]
  },
  {
   "cell_type": "markdown",
   "id": "a70d6142",
   "metadata": {},
   "source": [
    "## 5.1 Protein"
   ]
  },
  {
   "cell_type": "markdown",
   "id": "c91ee6d5",
   "metadata": {},
   "source": [
    "### 5.1.1  all samples and all species"
   ]
  },
  {
   "cell_type": "code",
   "execution_count": 45,
   "id": "51ebadad",
   "metadata": {
    "ExecuteTime": {
     "end_time": "2022-08-10T10:04:12.206239Z",
     "start_time": "2022-08-10T10:04:12.203678Z"
    }
   },
   "outputs": [],
   "source": [
    "path_QC = \"/home/zhl/projects/batch_effect_correction/new_results/QC/\"\n",
    "if not os.path.exists(os.path.join(path_QC,\"PCA\")):\n",
    "    os.makedirs(os.path.join(path_QC,\"PCA\"))\n",
    "    os.makedirs(os.path.join(path_QC,\"boxplot\"))\n",
    "    os.makedirs(os.path.join(path_QC,\"pointplot\"))\n",
    "    os.makedirs(os.path.join(path_QC,\"RSD\"))\n",
    "    os.makedirs(os.path.join(path_QC,\"variancePartition\"))\n",
    "    os.makedirs(os.path.join(path_QC,\"Hcluster\"))"
   ]
  },
  {
   "cell_type": "code",
   "execution_count": 10,
   "id": "ffb8948c",
   "metadata": {
    "ExecuteTime": {
     "end_time": "2022-09-27T10:03:16.799263Z",
     "start_time": "2022-09-27T10:00:55.810166Z"
    },
    "scrolled": true
   },
   "outputs": [
    {
     "name": "stdout",
     "output_type": "stream",
     "text": [
      "/home/zhl/projects/batch_effect_correction/new_results/protein_after_batch/protein_after_batch_RUVIII.csv\n"
     ]
    },
    {
     "name": "stderr",
     "output_type": "stream",
     "text": [
      "Warning message:\n",
      "Removed 13019 rows containing non-finite values (stat_boxplot). \n",
      "Warning message:\n",
      "Removed 13019 rows containing non-finite values (stat_boxplot). \n"
     ]
    },
    {
     "name": "stdout",
     "output_type": "stream",
     "text": [
      "=====================\n",
      "/home/zhl/projects/batch_effect_correction/new_results/protein_after_batch/protein_after_batch_RUVg.csv\n"
     ]
    },
    {
     "name": "stderr",
     "output_type": "stream",
     "text": [
      "Warning message:\n",
      "Removed 9539 rows containing non-finite values (stat_boxplot). \n",
      "Warning message:\n",
      "Removed 9539 rows containing non-finite values (stat_boxplot). \n"
     ]
    },
    {
     "name": "stdout",
     "output_type": "stream",
     "text": [
      "=====================\n",
      "/home/zhl/projects/batch_effect_correction/new_results/protein_after_batch/protein_after_batch_Combat.csv\n"
     ]
    },
    {
     "name": "stderr",
     "output_type": "stream",
     "text": [
      "Warning message:\n",
      "Removed 9570 rows containing non-finite values (stat_boxplot). \n",
      "Warning message:\n",
      "Removed 9570 rows containing non-finite values (stat_boxplot). \n"
     ]
    },
    {
     "name": "stdout",
     "output_type": "stream",
     "text": [
      "=====================\n",
      "/home/zhl/projects/batch_effect_correction/new_results/protein_after_batch/protein_after_batch_QC-Mnorm.csv\n"
     ]
    },
    {
     "name": "stderr",
     "output_type": "stream",
     "text": [
      "Warning message:\n",
      "Removed 13945 rows containing non-finite values (stat_boxplot). \n",
      "Warning message:\n",
      "Removed 13945 rows containing non-finite values (stat_boxplot). \n"
     ]
    },
    {
     "name": "stdout",
     "output_type": "stream",
     "text": [
      "=====================\n",
      "/home/zhl/projects/batch_effect_correction/new_results/protein_after_batch/protein_after_batch_raw.csv\n"
     ]
    },
    {
     "name": "stderr",
     "output_type": "stream",
     "text": [
      "Warning message:\n",
      "Removed 11386 rows containing non-finite values (stat_boxplot). \n",
      "Warning message:\n",
      "Removed 11386 rows containing non-finite values (stat_boxplot). \n"
     ]
    },
    {
     "name": "stdout",
     "output_type": "stream",
     "text": [
      "=====================\n",
      "/home/zhl/projects/batch_effect_correction/new_results/protein_after_batch/protein_after_batch_RUVs.csv\n"
     ]
    },
    {
     "name": "stderr",
     "output_type": "stream",
     "text": [
      "Warning message:\n",
      "Removed 18501 rows containing non-finite values (stat_boxplot). \n",
      "Warning message:\n",
      "Removed 18501 rows containing non-finite values (stat_boxplot). \n"
     ]
    },
    {
     "name": "stdout",
     "output_type": "stream",
     "text": [
      "=====================\n",
      "/home/zhl/projects/batch_effect_correction/new_results/protein_after_batch/protein_after_batch_Limma.csv\n"
     ]
    },
    {
     "name": "stderr",
     "output_type": "stream",
     "text": [
      "Warning message:\n",
      "Removed 10421 rows containing non-finite values (stat_boxplot). \n",
      "Warning message:\n",
      "Removed 10421 rows containing non-finite values (stat_boxplot). \n"
     ]
    },
    {
     "name": "stdout",
     "output_type": "stream",
     "text": [
      "=====================\n",
      "/home/zhl/projects/batch_effect_correction/new_results/protein_after_batch/protein_after_batch_Median-Norm.csv\n"
     ]
    },
    {
     "name": "stderr",
     "output_type": "stream",
     "text": [
      "Warning message:\n",
      "Removed 10865 rows containing non-finite values (stat_boxplot). \n",
      "Warning message:\n",
      "Removed 10865 rows containing non-finite values (stat_boxplot). \n"
     ]
    },
    {
     "name": "stdout",
     "output_type": "stream",
     "text": [
      "=====================\n"
     ]
    }
   ],
   "source": [
    "path_pro = \"/home/zhl/projects/batch_effect_correction/new_results/\"\n",
    "files= os.listdir(os.path.join(path_pro,\"protein_after_batch\"))\n",
    "for i in files:\n",
    "    if os.path.splitext(i)[1] == '.csv':\n",
    "        file = os.path.join(path_pro,\"protein_after_batch/\",i)\n",
    "        print(file)\n",
    "        os.system('Rscript /home/zhl/projects/batch_effect_correction/new_results/R/4.QC.R {0} {1} {2}'.format(file,\n",
    "                                                                                              group_data,               \n",
    "                                                                                      os.path.join(path_pro,\"QC/\")))\n",
    "        print(\"=====================\")"
   ]
  },
  {
   "cell_type": "markdown",
   "id": "0769aaa4",
   "metadata": {},
   "source": [
    "### 5.1.2  sample (A;B) and each specie"
   ]
  },
  {
   "cell_type": "code",
   "execution_count": 45,
   "id": "83bb96ff",
   "metadata": {
    "collapsed": true
   },
   "outputs": [
    {
     "name": "stdout",
     "output_type": "stream",
     "text": [
      "/home/boot/Script/test/batch_pipeline/NC_batch_pipeline2/Peptide/swissprot_homo_201604/sample_A/Protein/protein_after_batch_QC-Mnorm.csv\n"
     ]
    },
    {
     "ename": "FileNotFoundError",
     "evalue": "[Errno 2] No such file or directory: '/home/boot/Script/test/batch_pipeline/NC_batch_pipeline2/Peptide/swissprot_homo_201604/sample_A/Protein/protein_after_batch_QC-Mnorm.csv'",
     "output_type": "error",
     "traceback": [
      "\u001b[0;31m---------------------------------------------------------------------------\u001b[0m",
      "\u001b[0;31mFileNotFoundError\u001b[0m                         Traceback (most recent call last)",
      "\u001b[0;32m<ipython-input-45-8f993cd186b4>\u001b[0m in \u001b[0;36m<module>\u001b[0;34m()\u001b[0m\n\u001b[1;32m     22\u001b[0m                 \u001b[0mfilename\u001b[0m \u001b[0;34m=\u001b[0m \u001b[0mos\u001b[0m\u001b[0;34m.\u001b[0m\u001b[0mpath\u001b[0m\u001b[0;34m.\u001b[0m\u001b[0mjoin\u001b[0m\u001b[0;34m(\u001b[0m\u001b[0mpath_pro\u001b[0m\u001b[0;34m,\u001b[0m\u001b[0ms\u001b[0m\u001b[0;34m,\u001b[0m\u001b[0msample\u001b[0m\u001b[0;34m,\u001b[0m\u001b[0;34m\"Protein/\"\u001b[0m\u001b[0;34m,\u001b[0m\u001b[0mi\u001b[0m\u001b[0;34m)\u001b[0m\u001b[0;34m\u001b[0m\u001b[0;34m\u001b[0m\u001b[0m\n\u001b[1;32m     23\u001b[0m                 \u001b[0mprint\u001b[0m\u001b[0;34m(\u001b[0m\u001b[0mfilename\u001b[0m\u001b[0;34m)\u001b[0m\u001b[0;34m\u001b[0m\u001b[0;34m\u001b[0m\u001b[0m\n\u001b[0;32m---> 24\u001b[0;31m                 \u001b[0mprotein_s\u001b[0m\u001b[0;34m.\u001b[0m\u001b[0mto_csv\u001b[0m\u001b[0;34m(\u001b[0m\u001b[0mfilename\u001b[0m\u001b[0;34m,\u001b[0m\u001b[0mindex\u001b[0m\u001b[0;34m=\u001b[0m\u001b[0;32mFalse\u001b[0m\u001b[0;34m)\u001b[0m\u001b[0;34m\u001b[0m\u001b[0;34m\u001b[0m\u001b[0m\n\u001b[0m\u001b[1;32m     25\u001b[0m                 os.system('Rscript /home/boot/Script/test/batch_pipeline/NC_batch_pipeline2/4.QC.R {0} {1}'.format(filename,\n\u001b[1;32m     26\u001b[0m                                                                                           os.path.join(path_pro,s,sample,\"Protein/\")))\n",
      "\u001b[0;32m/home/boot/anaconda3/envs/pipeline/lib/python3.6/site-packages/pandas/core/generic.py\u001b[0m in \u001b[0;36mto_csv\u001b[0;34m(self, path_or_buf, sep, na_rep, float_format, columns, header, index, index_label, mode, encoding, compression, quoting, quotechar, line_terminator, chunksize, date_format, doublequote, escapechar, decimal, errors)\u001b[0m\n\u001b[1;32m   3168\u001b[0m             \u001b[0mdecimal\u001b[0m\u001b[0;34m=\u001b[0m\u001b[0mdecimal\u001b[0m\u001b[0;34m,\u001b[0m\u001b[0;34m\u001b[0m\u001b[0;34m\u001b[0m\u001b[0m\n\u001b[1;32m   3169\u001b[0m         )\n\u001b[0;32m-> 3170\u001b[0;31m         \u001b[0mformatter\u001b[0m\u001b[0;34m.\u001b[0m\u001b[0msave\u001b[0m\u001b[0;34m(\u001b[0m\u001b[0;34m)\u001b[0m\u001b[0;34m\u001b[0m\u001b[0;34m\u001b[0m\u001b[0m\n\u001b[0m\u001b[1;32m   3171\u001b[0m \u001b[0;34m\u001b[0m\u001b[0m\n\u001b[1;32m   3172\u001b[0m         \u001b[0;32mif\u001b[0m \u001b[0mpath_or_buf\u001b[0m \u001b[0;32mis\u001b[0m \u001b[0;32mNone\u001b[0m\u001b[0;34m:\u001b[0m\u001b[0;34m\u001b[0m\u001b[0;34m\u001b[0m\u001b[0m\n",
      "\u001b[0;32m/home/boot/anaconda3/envs/pipeline/lib/python3.6/site-packages/pandas/io/formats/csvs.py\u001b[0m in \u001b[0;36msave\u001b[0;34m(self)\u001b[0m\n\u001b[1;32m    188\u001b[0m                 \u001b[0mencoding\u001b[0m\u001b[0;34m=\u001b[0m\u001b[0mself\u001b[0m\u001b[0;34m.\u001b[0m\u001b[0mencoding\u001b[0m\u001b[0;34m,\u001b[0m\u001b[0;34m\u001b[0m\u001b[0;34m\u001b[0m\u001b[0m\n\u001b[1;32m    189\u001b[0m                 \u001b[0merrors\u001b[0m\u001b[0;34m=\u001b[0m\u001b[0mself\u001b[0m\u001b[0;34m.\u001b[0m\u001b[0merrors\u001b[0m\u001b[0;34m,\u001b[0m\u001b[0;34m\u001b[0m\u001b[0;34m\u001b[0m\u001b[0m\n\u001b[0;32m--> 190\u001b[0;31m                 \u001b[0mcompression\u001b[0m\u001b[0;34m=\u001b[0m\u001b[0mdict\u001b[0m\u001b[0;34m(\u001b[0m\u001b[0mself\u001b[0m\u001b[0;34m.\u001b[0m\u001b[0mcompression_args\u001b[0m\u001b[0;34m,\u001b[0m \u001b[0mmethod\u001b[0m\u001b[0;34m=\u001b[0m\u001b[0mself\u001b[0m\u001b[0;34m.\u001b[0m\u001b[0mcompression\u001b[0m\u001b[0;34m)\u001b[0m\u001b[0;34m,\u001b[0m\u001b[0;34m\u001b[0m\u001b[0;34m\u001b[0m\u001b[0m\n\u001b[0m\u001b[1;32m    191\u001b[0m             )\n\u001b[1;32m    192\u001b[0m             \u001b[0mclose\u001b[0m \u001b[0;34m=\u001b[0m \u001b[0;32mTrue\u001b[0m\u001b[0;34m\u001b[0m\u001b[0;34m\u001b[0m\u001b[0m\n",
      "\u001b[0;32m/home/boot/anaconda3/envs/pipeline/lib/python3.6/site-packages/pandas/io/common.py\u001b[0m in \u001b[0;36mget_handle\u001b[0;34m(path_or_buf, mode, encoding, compression, memory_map, is_text, errors)\u001b[0m\n\u001b[1;32m    491\u001b[0m         \u001b[0;32mif\u001b[0m \u001b[0mencoding\u001b[0m\u001b[0;34m:\u001b[0m\u001b[0;34m\u001b[0m\u001b[0;34m\u001b[0m\u001b[0m\n\u001b[1;32m    492\u001b[0m             \u001b[0;31m# Encoding\u001b[0m\u001b[0;34m\u001b[0m\u001b[0;34m\u001b[0m\u001b[0;34m\u001b[0m\u001b[0m\n\u001b[0;32m--> 493\u001b[0;31m             \u001b[0mf\u001b[0m \u001b[0;34m=\u001b[0m \u001b[0mopen\u001b[0m\u001b[0;34m(\u001b[0m\u001b[0mpath_or_buf\u001b[0m\u001b[0;34m,\u001b[0m \u001b[0mmode\u001b[0m\u001b[0;34m,\u001b[0m \u001b[0mencoding\u001b[0m\u001b[0;34m=\u001b[0m\u001b[0mencoding\u001b[0m\u001b[0;34m,\u001b[0m \u001b[0merrors\u001b[0m\u001b[0;34m=\u001b[0m\u001b[0merrors\u001b[0m\u001b[0;34m,\u001b[0m \u001b[0mnewline\u001b[0m\u001b[0;34m=\u001b[0m\u001b[0;34m\"\"\u001b[0m\u001b[0;34m)\u001b[0m\u001b[0;34m\u001b[0m\u001b[0;34m\u001b[0m\u001b[0m\n\u001b[0m\u001b[1;32m    494\u001b[0m         \u001b[0;32melif\u001b[0m \u001b[0mis_text\u001b[0m\u001b[0;34m:\u001b[0m\u001b[0;34m\u001b[0m\u001b[0;34m\u001b[0m\u001b[0m\n\u001b[1;32m    495\u001b[0m             \u001b[0;31m# No explicit encoding\u001b[0m\u001b[0;34m\u001b[0m\u001b[0;34m\u001b[0m\u001b[0;34m\u001b[0m\u001b[0m\n",
      "\u001b[0;31mFileNotFoundError\u001b[0m: [Errno 2] No such file or directory: '/home/boot/Script/test/batch_pipeline/NC_batch_pipeline2/Peptide/swissprot_homo_201604/sample_A/Protein/protein_after_batch_QC-Mnorm.csv'"
     ]
    }
   ],
   "source": [
    "path_pro = \"/home/boot/Script/test/batch_pipeline/NC_batch_pipeline2/Peptide/\"\n",
    "files= os.listdir(\"/home/boot/Script/test/batch_pipeline/NC_batch_pipeline2/Peptide/protein_after_batch/\")\n",
    "samples = [\"Sample_A\",\"Sample_B\"]\n",
    "for i in files:\n",
    "    if os.path.splitext(i)[1] == '.csv':\n",
    "        file = os.path.join(\"/home/boot/Script/test/batch_pipeline/NC_batch_pipeline2/Peptide/protein_after_batch/\",i)\n",
    "        protein = pd.read_csv(file)\n",
    "        species = protein[\"PG.FASTAName\"].unique()\n",
    "        for s in species:\n",
    "            protein1 = protein[protein[\"PG.FASTAName\"]==s]\n",
    "            if s == \"Saccharomyces cerevisiae_201602\":\n",
    "                s = \"Yeast\"\n",
    "            for sample in samples:\n",
    "                if sample == \"Sample_B\":\n",
    "                    sample = \"sample_B\"\n",
    "                    #drop sample_A\n",
    "                    protein_s = protein1[protein1.columns[~protein1.columns.str.contains('Sample_A')]]\n",
    "                else:\n",
    "                    sample = \"sample_A\"\n",
    "                    #drop sample_B\n",
    "                    protein_s = protein1[protein1.columns[~protein1.columns.str.contains('Sample_B')]]\n",
    "                filename = os.path.join(path_pro,s,sample,\"Protein/\",i)\n",
    "                print(filename)\n",
    "                protein_s.to_csv(filename,index=False)\n",
    "                os.system('Rscript /home/boot/Script/test/batch_pipeline/NC_batch_pipeline2/4.QC.R {0} {1}'.format(filename,\n",
    "                                                                                          os.path.join(path_pro,s,sample,\"Protein/\")))\n",
    "                print(\"=====================\")"
   ]
  },
  {
   "cell_type": "markdown",
   "id": "11a2aa14",
   "metadata": {},
   "source": [
    "### 5.1.3  Pearson correlation"
   ]
  },
  {
   "cell_type": "code",
   "execution_count": 68,
   "id": "054fd0c5",
   "metadata": {
    "ExecuteTime": {
     "end_time": "2022-08-12T02:38:02.307182Z",
     "start_time": "2022-08-12T02:37:27.237140Z"
    }
   },
   "outputs": [
    {
     "name": "stderr",
     "output_type": "stream",
     "text": [
      "Warning message:\n",
      "Removed 58 rows containing non-finite values (stat_boxplot). \n",
      "Warning message:\n",
      "Removed 58 rows containing non-finite values (stat_boxplot). \n",
      "Warning messages:\n",
      "1: Removed 58 rows containing non-finite values (stat_ydensity). \n",
      "2: Removed 58 rows containing non-finite values (stat_boxplot). \n",
      "Warning messages:\n",
      "1: Removed 58 rows containing non-finite values (stat_ydensity). \n",
      "2: Removed 58 rows containing non-finite values (stat_boxplot). \n"
     ]
    },
    {
     "data": {
      "text/plain": [
       "0"
      ]
     },
     "execution_count": 68,
     "metadata": {},
     "output_type": "execute_result"
    }
   ],
   "source": [
    "os.system('Rscript /home/zhl/projects/batch_effect_correction/new_results/R/9.pearson_method.R {0}'.format(\"/home/zhl/projects/batch_effect_correction/new_results/protein_after_batch/\"))"
   ]
  },
  {
   "cell_type": "markdown",
   "id": "bb70cbac",
   "metadata": {},
   "source": [
    "## 5.2 Peptide "
   ]
  },
  {
   "cell_type": "markdown",
   "id": "c158bc63",
   "metadata": {},
   "source": [
    "### 5.2.1  all samples and all species"
   ]
  },
  {
   "cell_type": "code",
   "execution_count": null,
   "id": "821f80ac",
   "metadata": {},
   "outputs": [],
   "source": [
    "path_QC = \"/home/boot/Script/test/batch_pipeline/NC_batch_pipeline2/Peptide/QC/Peptide/\"\n",
    "if not os.path.exists(os.path.join(path_QC,\"PCA\")):\n",
    "    os.makedirs(os.path.join(path_QC,\"boxplot\"))\n",
    "    os.makedirs(os.path.join(path_QC,\"pointplot\"))\n",
    "    os.makedirs(os.path.join(path_QC,\"RSD\"))\n",
    "    os.makedirs(os.path.join(path_QC,\"variancePartition\"))\n",
    "    os.makedirs(os.path.join(path_QC,\"Hcluster\"))"
   ]
  },
  {
   "cell_type": "code",
   "execution_count": null,
   "id": "c07771b6",
   "metadata": {},
   "outputs": [],
   "source": [
    "path_pep = \"/home/boot/Script/test/batch_pipeline/NC_batch_pipeline2/Peptide/\"\n",
    "file= \"/home/boot/Script/test/batch_pipeline/NC_batch_pipeline2/Peptide/peptides_raw_matrix.csv\"\n",
    "os.system('Rscript /home/zhl/projects/batch_effect_correction/new_results/R/4.QC.R {0} {1} {2}'.format(file,group_data,\n",
    "                                                                                      os.path.join(path_pep,\"QC/Peptide\")))\n",
    "print(\"=====================\")"
   ]
  },
  {
   "cell_type": "markdown",
   "id": "03520f8f",
   "metadata": {},
   "source": [
    "## 6 RSD "
   ]
  },
  {
   "cell_type": "markdown",
   "id": "0a0f8450",
   "metadata": {},
   "source": [
    "## 6.1 Protein + Peptide **<font color = red>all samples and all species**"
   ]
  },
  {
   "cell_type": "markdown",
   "id": "b71e63f8",
   "metadata": {},
   "source": [
    "### RSD was calculated separately for each lab"
   ]
  },
  {
   "cell_type": "code",
   "execution_count": 5,
   "id": "970447f5",
   "metadata": {
    "ExecuteTime": {
     "end_time": "2022-08-16T02:34:24.847040Z",
     "start_time": "2022-08-16T02:34:24.661097Z"
    }
   },
   "outputs": [
    {
     "data": {
      "text/html": [
       "<div>\n",
       "<style scoped>\n",
       "    .dataframe tbody tr th:only-of-type {\n",
       "        vertical-align: middle;\n",
       "    }\n",
       "\n",
       "    .dataframe tbody tr th {\n",
       "        vertical-align: top;\n",
       "    }\n",
       "\n",
       "    .dataframe thead th {\n",
       "        text-align: right;\n",
       "    }\n",
       "</style>\n",
       "<table border=\"1\" class=\"dataframe\">\n",
       "  <thead>\n",
       "    <tr style=\"text-align: right;\">\n",
       "      <th></th>\n",
       "      <th>0</th>\n",
       "      <th>1</th>\n",
       "    </tr>\n",
       "  </thead>\n",
       "  <tbody>\n",
       "    <tr>\n",
       "      <th>0</th>\n",
       "      <td>FMMU_Day_1_A_rep_1</td>\n",
       "      <td>Lab1</td>\n",
       "    </tr>\n",
       "    <tr>\n",
       "      <th>1</th>\n",
       "      <td>FMMU_Day_1_A_rep_2</td>\n",
       "      <td>Lab1</td>\n",
       "    </tr>\n",
       "    <tr>\n",
       "      <th>2</th>\n",
       "      <td>FMMU_Day_1_A_rep_3</td>\n",
       "      <td>Lab1</td>\n",
       "    </tr>\n",
       "    <tr>\n",
       "      <th>3</th>\n",
       "      <td>FMMU_Day_1_B_rep_1</td>\n",
       "      <td>Lab1</td>\n",
       "    </tr>\n",
       "    <tr>\n",
       "      <th>4</th>\n",
       "      <td>FMMU_Day_1_B_rep_2</td>\n",
       "      <td>Lab1</td>\n",
       "    </tr>\n",
       "    <tr>\n",
       "      <th>...</th>\n",
       "      <td>...</td>\n",
       "      <td>...</td>\n",
       "    </tr>\n",
       "    <tr>\n",
       "      <th>300</th>\n",
       "      <td>MRL_Day_7_A_Rep_2</td>\n",
       "      <td>Lab11</td>\n",
       "    </tr>\n",
       "    <tr>\n",
       "      <th>301</th>\n",
       "      <td>MRL_Day_7_A_Rep_3</td>\n",
       "      <td>Lab11</td>\n",
       "    </tr>\n",
       "    <tr>\n",
       "      <th>302</th>\n",
       "      <td>MRL_Day_7_B_Rep_1</td>\n",
       "      <td>Lab11</td>\n",
       "    </tr>\n",
       "    <tr>\n",
       "      <th>303</th>\n",
       "      <td>MRL_Day_7_B_Rep_2</td>\n",
       "      <td>Lab11</td>\n",
       "    </tr>\n",
       "    <tr>\n",
       "      <th>304</th>\n",
       "      <td>MRL_Day_7_B_Rep_3</td>\n",
       "      <td>Lab11</td>\n",
       "    </tr>\n",
       "  </tbody>\n",
       "</table>\n",
       "<p>305 rows × 2 columns</p>\n",
       "</div>"
      ],
      "text/plain": [
       "                      0      1\n",
       "0    FMMU_Day_1_A_rep_1   Lab1\n",
       "1    FMMU_Day_1_A_rep_2   Lab1\n",
       "2    FMMU_Day_1_A_rep_3   Lab1\n",
       "3    FMMU_Day_1_B_rep_1   Lab1\n",
       "4    FMMU_Day_1_B_rep_2   Lab1\n",
       "..                  ...    ...\n",
       "300   MRL_Day_7_A_Rep_2  Lab11\n",
       "301   MRL_Day_7_A_Rep_3  Lab11\n",
       "302   MRL_Day_7_B_Rep_1  Lab11\n",
       "303   MRL_Day_7_B_Rep_2  Lab11\n",
       "304   MRL_Day_7_B_Rep_3  Lab11\n",
       "\n",
       "[305 rows x 2 columns]"
      ]
     },
     "execution_count": 5,
     "metadata": {},
     "output_type": "execute_result"
    }
   ],
   "source": [
    "import pandas as pd\n",
    "#import xlrd\n",
    "MSFile = pd.read_csv('/home/zhl/projects/batch_effect_correction/new_results/protein_after_batch/protein_after_batch_RUVIII.csv',low_memory=False)\n",
    "group=pd.read_excel(\"/home/zhl/projects/batch_effect_correction/new_results/group_new.xls\",header=None)\n",
    "group = group.iloc[1:,0:2]\n",
    "group = group.merge(pd.DataFrame(MSFile.columns,columns=[0]))\n",
    "group"
   ]
  },
  {
   "cell_type": "code",
   "execution_count": 73,
   "id": "261dcc79",
   "metadata": {
    "ExecuteTime": {
     "end_time": "2022-08-16T09:52:08.193132Z",
     "start_time": "2022-08-16T09:51:27.202379Z"
    },
    "scrolled": true
   },
   "outputs": [
    {
     "name": "stdout",
     "output_type": "stream",
     "text": [
      "/home/zhl/projects/batch_effect_correction/new_results/protein_after_batch/protein_after_batch_RUVIII.csv\n",
      "save file finish !!!\n",
      "/home/zhl/projects/batch_effect_correction/new_results/protein_after_batch/protein_after_batch_RUVg.csv\n"
     ]
    },
    {
     "name": "stderr",
     "output_type": "stream",
     "text": [
      "\n",
      "KeyboardInterrupt\n",
      "\n"
     ]
    }
   ],
   "source": [
    "pro_pep = [\"Protein/\",\"Peptide/\"]\n",
    "for p in pro_pep:\n",
    "    if p == \"Peptide/\":\n",
    "        path = \"/home/zhl/projects/batch_effect_correction/new_results/QC/Peptide/\"\n",
    "        rsd_path = '/home/zhl/projects/batch_effect_correction/new_results/QC/Peptide/RSD/'\n",
    "        files = [\"peptides_raw_matrix_impute0.4.csv\"]\n",
    "    else:\n",
    "        path = \"/home/zhl/projects/batch_effect_correction/new_results/protein_after_batch/\"\n",
    "        rsd_path = '/home/zhl/projects/batch_effect_correction/new_results/QC/RSD/'\n",
    "        file_dirs = os.listdir(path)\n",
    "        files = [i for i in file_dirs if os.path.splitext(i)[1] == '.csv']\n",
    "    for i in files:\n",
    "        file = path+i\n",
    "        print(file)\n",
    "        MSFile = pd.read_csv(file,low_memory=False)\n",
    "        group2sample = group.groupby(1,as_index=False)\n",
    "        # 计算相对标准差RSD\n",
    "        rsd_data = pd.DataFrame()\n",
    "        for key, value in group2sample:\n",
    "            Value = list(value[0])\n",
    "            rsd_data[key] = MSFile[Value].apply(lambda x: np.std(x[Value], ddof=1) / np.mean(x[Value]),axis=1)\n",
    "        pd.melt(rsd_data.dropna()).to_csv(os.path.join(rsd_path, 'rsd_'+i),index=None)\n",
    "        print(\"save file finish !!!\")\n",
    "        os.system('Rscript /home/zhl/projects/batch_effect_correction/new_results/R/5.RSD.R {0} {1}'.format(os.path.join(rsd_path, 'rsd_'+i),rsd_path))"
   ]
  },
  {
   "cell_type": "markdown",
   "id": "5f8b80a9",
   "metadata": {},
   "source": [
    "### **RSD (All labs are considered as a group)**"
   ]
  },
  {
   "cell_type": "code",
   "execution_count": 7,
   "id": "2dbecfe1",
   "metadata": {
    "ExecuteTime": {
     "end_time": "2022-08-16T02:39:20.288180Z",
     "start_time": "2022-08-16T02:39:13.627530Z"
    }
   },
   "outputs": [
    {
     "name": "stdout",
     "output_type": "stream",
     "text": [
      "protein_after_batch_RUVIII.csv\n",
      "protein_after_batch_RUVg.csv\n",
      "protein_after_batch_Combat.csv\n",
      "protein_after_batch_QC-Mnorm.csv\n",
      "protein_after_batch_raw.csv\n",
      "protein_after_batch_RUVs.csv\n",
      "protein_after_batch_Limma.csv\n",
      "protein_after_batch_Median-Norm.csv\n",
      "Protein/ finish\n"
     ]
    }
   ],
   "source": [
    "path = \"/home/zhl/projects/batch_effect_correction/new_results/protein_after_batch/\"\n",
    "rsd_path = '/home/zhl/projects/batch_effect_correction/new_results/QC/RSD/'\n",
    "file_dirs = os.listdir(path)\n",
    "files = [i for i in file_dirs if os.path.splitext(i)[1] == '.csv']\n",
    "rsd_data = pd.DataFrame()\n",
    "for i in files:\n",
    "    print(i)\n",
    "    file = path+i\n",
    "    lab = i.split(\"protein_after_batch_\")[1].split(\".csv\")[0]\n",
    "    MSFile = pd.read_csv(file,low_memory=False)\n",
    "    MSFile = MSFile.loc[:,group[0]]\n",
    "    rsd_data[lab] = MSFile.apply(lambda x: np.std(x,ddof=1) / np.mean(x),axis=1)\n",
    "pd.melt(rsd_data.dropna()).to_csv(os.path.join(rsd_path, \"RSD_method.csv\"),index=None)\n",
    "os.system('Rscript /home/zhl/projects/batch_effect_correction/new_results/R/6.RSD_mod.R {0} {1}'.format(os.path.join(rsd_path, \"RSD_method.csv\"),\n",
    "                                                                                                          rsd_path))\n",
    "print(p,\"finish\")"
   ]
  },
  {
   "cell_type": "code",
   "execution_count": 8,
   "id": "19564ca5",
   "metadata": {
    "ExecuteTime": {
     "end_time": "2022-08-16T02:40:53.724290Z",
     "start_time": "2022-08-16T02:40:52.664575Z"
    }
   },
   "outputs": [
    {
     "data": {
      "text/plain": [
       "0"
      ]
     },
     "execution_count": 8,
     "metadata": {},
     "output_type": "execute_result"
    }
   ],
   "source": [
    "os.system('Rscript /home/zhl/projects/batch_effect_correction/new_results/R/6.RSD_mod.R {0} {1}'.format(os.path.join(rsd_path, \"RSD_method.csv\"),\n",
    "                                                                                                          rsd_path))"
   ]
  },
  {
   "cell_type": "markdown",
   "id": "f62313dd",
   "metadata": {},
   "source": [
    "~~ **<font color = red size=5>6.2 Protein + Peptide each sample and each species** ~~"
   ]
  },
  {
   "cell_type": "code",
   "execution_count": null,
   "id": "6b99edc5",
   "metadata": {},
   "outputs": [],
   "source": [
    "'''\n",
    "group=pd.read_excel(\"/home/boot/Script/test/batch_pipeline/batch_effect_correction/NC/group.xls\",header=None)\n",
    "group = group.iloc[1:,0:2]\n",
    "path = \"/home/boot/Script/test/batch_pipeline/batch_effect_correction/NC/\"\n",
    "species_dirs = [\"swissprot_homo_201604\",\"uniprot-Ecoli_K12_201709\",\"Yeast\"]\n",
    "samples = [\"sample_A\",\"sample_B\"]\n",
    "pro_pep = [\"Protein/\",\"Peptide/\"]\n",
    "for dirs in species_dirs:\n",
    "    for sample in samples:\n",
    "        for p in pro_pep:\n",
    "            path_dir = os.path.join(path,dirs,sample,p)\n",
    "            files= os.listdir(path_dir)\n",
    "            print(path_dir)\n",
    "            for i in files:\n",
    "                if os.path.splitext(i)[1] == '.csv':\n",
    "                    rsd_path = os.path.join(path_dir,\"RSD/\")\n",
    "                    file = path_dir+i\n",
    "                    MSFile = pd.read_csv(file,low_memory=False)\n",
    "                    group_merge = group.merge(pd.DataFrame(MSFile.columns,columns=[0]))\n",
    "                    group2sample = group_merge.groupby(1,as_index=False)\n",
    "                    # 计算相对标准差RSD\n",
    "                    rsd_data = pd.DataFrame()\n",
    "                    for key, value in group2sample:\n",
    "                        #print(\"key:\",key,'value:',value)\n",
    "                        Value = list(value[0])\n",
    "                        rsd_data[key] = MSFile[Value].apply(lambda x: np.std(x[Value], ddof=1) / np.mean(x[Value]),axis=1)\n",
    "                    pd.melt(rsd_data.dropna()).to_csv(os.path.join(rsd_path, 'rsd_'+i),index=None)\n",
    "                    os.system('Rscript /home/zhl/projects/batch_effect_correction/new_results/R、RSD.R {0} {1}'.format(os.path.join(rsd_path, 'rsd_'+i),\n",
    "                                                                                                     os.path.join(rsd_path, 'plot/')))\n",
    "'''"
   ]
  },
  {
   "cell_type": "markdown",
   "id": "188aca7d",
   "metadata": {},
   "source": [
    "~~ **RSD (All labs are considered as a group)** ~~"
   ]
  },
  {
   "cell_type": "code",
   "execution_count": null,
   "id": "a21fd7ef",
   "metadata": {},
   "outputs": [],
   "source": [
    "'''\n",
    "group=pd.read_excel(\"/home/boot/Script/test/batch_pipeline/batch_effect_correction/NC/group.xls\",header=None)\n",
    "group = group.iloc[1:,0:2]\n",
    "path = \"/home/boot/Script/test/batch_pipeline/batch_effect_correction/NC/\"\n",
    "species_dirs = [\"swissprot_homo_201604\",\"uniprot-Ecoli_K12_201709\",\"Yeast\"]\n",
    "samples = [\"sample_A\",\"sample_B\"]\n",
    "pro_pep = [\"Protein/\",\"Peptide/\"]\n",
    "for dirs in species_dirs:\n",
    "    for sample in samples:\n",
    "        for p in pro_pep:\n",
    "            path_dir = os.path.join(path,dirs,sample,p)\n",
    "            files= os.listdir(path_dir)\n",
    "            rsd_path = os.path.join(path_dir,\"RSD/\")\n",
    "            print(rsd_path)\n",
    "            rsd_data = pd.DataFrame()\n",
    "            for i in files:\n",
    "                if os.path.splitext(i)[1] == '.csv':\n",
    "                    file = path_dir+i\n",
    "                    lab = i.split(\"peptides_after_MVI_\")[1].split(\".csv\")[0]\n",
    "                    MSFile = pd.read_csv(file,low_memory=False)\n",
    "                    group_merge = group.merge(pd.DataFrame(MSFile.columns,columns=[0]))\n",
    "                    MSFile = MSFile.loc[:,group_merge[0]]\n",
    "                    rsd_data[lab] = MSFile.apply(lambda x: np.std(x,ddof=1) / np.mean(x),axis=1)\n",
    "            pd.melt(rsd_data.dropna()).to_csv(os.path.join(rsd_path, \"RSD_LAB.csv\"),index=None)\n",
    "            print(\"finish\")\n",
    "            os.system('Rscript /home/zhl/projects/batch_effect_correction/new_results/R、RSD_mod.R {0} {1}'.format(os.path.join(rsd_path, \"RSD_LAB.csv\"),\n",
    "                                                                                                os.path.join(rsd_path, \"RSD_LAB.png\")))\n",
    "'''"
   ]
  },
  {
   "cell_type": "markdown",
   "id": "0503b5bc",
   "metadata": {},
   "source": [
    "##  7. Ratio"
   ]
  },
  {
   "cell_type": "markdown",
   "id": "e1235f2b",
   "metadata": {},
   "source": [
    "### **All methods of batch-correction in boxplot**"
   ]
  },
  {
   "cell_type": "code",
   "execution_count": 45,
   "id": "aeec9452",
   "metadata": {
    "ExecuteTime": {
     "end_time": "2022-08-16T07:52:18.934204Z",
     "start_time": "2022-08-16T07:52:12.169820Z"
    },
    "collapsed": true
   },
   "outputs": [
    {
     "name": "stderr",
     "output_type": "stream",
     "text": [
      "No id variables; using all as measure variables\n",
      "Warning message:\n",
      "Removed 41 rows containing non-finite values (stat_boxplot). \n",
      "Warning message:\n",
      "Removed 41 rows containing non-finite values (stat_boxplot). \n"
     ]
    },
    {
     "name": "stdout",
     "output_type": "stream",
     "text": [
      "/home/zhl/projects/batch_effect_correction/new_results/Ratio_3species_allmethod/swissprot_homo_201604_Ratio.csv  finish!!\n"
     ]
    },
    {
     "name": "stderr",
     "output_type": "stream",
     "text": [
      "No id variables; using all as measure variables\n",
      "Warning message:\n",
      "Removed 51 rows containing non-finite values (stat_boxplot). \n",
      "Warning message:\n",
      "Removed 51 rows containing non-finite values (stat_boxplot). \n"
     ]
    },
    {
     "name": "stdout",
     "output_type": "stream",
     "text": [
      "/home/zhl/projects/batch_effect_correction/new_results/Ratio_3species_allmethod/Saccharomyces_cerevisiae_201602_Ratio.csv  finish!!\n"
     ]
    },
    {
     "name": "stderr",
     "output_type": "stream",
     "text": [
      "No id variables; using all as measure variables\n"
     ]
    },
    {
     "name": "stdout",
     "output_type": "stream",
     "text": [
      "/home/zhl/projects/batch_effect_correction/new_results/Ratio_3species_allmethod/uniprot-Ecoli_K12_201709_Ratio.csv  finish!!\n"
     ]
    },
    {
     "name": "stderr",
     "output_type": "stream",
     "text": [
      "Warning message:\n",
      "Removed 18 rows containing non-finite values (stat_boxplot). \n",
      "Warning message:\n",
      "Removed 18 rows containing non-finite values (stat_boxplot). \n"
     ]
    }
   ],
   "source": [
    "protein_dir = \"/home/zhl/projects/batch_effect_correction/new_results/protein_after_batch\"\n",
    "file_dirs = os.listdir(protein_dir)\n",
    "files = [i for i in file_dirs if os.path.splitext(i)[1] == '.csv']\n",
    "\n",
    "path = \"/home/zhl/projects/batch_effect_correction/new_results/Ratio_3species_allmethod/\"\n",
    "species_dirs = [\"swissprot_homo_201604\",\"Saccharomyces cerevisiae_201602\",\"uniprot-Ecoli_K12_201709\"]\n",
    "\n",
    "\n",
    "for species in species_dirs:\n",
    "\n",
    "    Ratio_data = pd.DataFrame()\n",
    "    for i in files:\n",
    "        df = pd.read_csv(os.path.join(protein_dir,i))\n",
    "        #df = df.loc[:,['Protein','PG.FASTAName']+list(df.columns[df.columns.str.contains(\"ISAS\")])]\n",
    "        A = df.columns[~df.columns.str.contains(\"_B_\")]\n",
    "        B = df.columns[~df.columns.str.contains(\"_A_\")]\n",
    "        \n",
    "        df_A = df.loc[df[\"PG.FASTAName\"]==species,:]\n",
    "        df_A = df_A[A]\n",
    "        \n",
    "        df_B = df.loc[df[\"PG.FASTAName\"]==species,:]\n",
    "        df_B = df_B[B]\n",
    "        \n",
    "        method = i.split(\"protein_after_batch_\")[1].split(\".csv\")[0]\n",
    "        df_AB = pd.merge(df_A,df_B,on = df_A.columns[0])\n",
    "        Ratio_data[method] = df_AB[df_AB.columns[df_AB.columns.str.contains(\"_A_\")]].T.median() / df_AB[df_AB.columns[df_AB.columns.str.contains(\"_B_\")]].T.median()\n",
    "    if species == \"Saccharomyces cerevisiae_201602\":\n",
    "        species = \"Saccharomyces_cerevisiae_201602\"\n",
    "    save_file = os.path.join(path,species+\"_Ratio.csv\")\n",
    "    save_png = os.path.join(path,species+\"_Ratio.png\")\n",
    "    save_pdf = os.path.join(path,species+\"_Ratio.pdf\")\n",
    "    Ratio_data.to_csv(save_file)\n",
    "    os.system('Rscript /home/zhl/projects/batch_effect_correction/new_results/R/7.Ratio_boxplot.R {0} {1} {2}'.format(save_file,save_png,save_pdf))\n",
    "    print(save_file,\" finish!!\")"
   ]
  },
  {
   "cell_type": "markdown",
   "id": "5acef2a4",
   "metadata": {},
   "source": [
    "### **Each method in the scatter plot contains all species**"
   ]
  },
  {
   "cell_type": "code",
   "execution_count": 53,
   "id": "8d00c7b5",
   "metadata": {
    "ExecuteTime": {
     "end_time": "2022-08-16T08:35:58.592101Z",
     "start_time": "2022-08-16T08:35:45.329986Z"
    }
   },
   "outputs": [
    {
     "name": "stdout",
     "output_type": "stream",
     "text": [
      "protein_after_batch_RUVIII.csv\n",
      "RUVIII\n",
      "swissprot_homo_201604\n",
      "Saccharomyces cerevisiae_201602\n",
      "uniprot-Ecoli_K12_201709\n"
     ]
    },
    {
     "name": "stderr",
     "output_type": "stream",
     "text": [
      "\n",
      "载入程辑包：‘cowplot’\n",
      "\n",
      "The following object is masked from ‘package:ggpubr’:\n",
      "\n",
      "    get_legend\n",
      "\n"
     ]
    },
    {
     "name": "stdout",
     "output_type": "stream",
     "text": [
      "protein_after_batch_RUVg.csv\n",
      "RUVg\n",
      "swissprot_homo_201604\n",
      "Saccharomyces cerevisiae_201602\n",
      "uniprot-Ecoli_K12_201709\n"
     ]
    },
    {
     "name": "stderr",
     "output_type": "stream",
     "text": [
      "\n",
      "载入程辑包：‘cowplot’\n",
      "\n",
      "The following object is masked from ‘package:ggpubr’:\n",
      "\n",
      "    get_legend\n",
      "\n"
     ]
    },
    {
     "name": "stdout",
     "output_type": "stream",
     "text": [
      "protein_after_batch_Combat.csv\n",
      "Combat\n",
      "swissprot_homo_201604\n",
      "Saccharomyces cerevisiae_201602\n",
      "uniprot-Ecoli_K12_201709\n"
     ]
    },
    {
     "name": "stderr",
     "output_type": "stream",
     "text": [
      "\n",
      "载入程辑包：‘cowplot’\n",
      "\n",
      "The following object is masked from ‘package:ggpubr’:\n",
      "\n",
      "    get_legend\n",
      "\n"
     ]
    },
    {
     "name": "stdout",
     "output_type": "stream",
     "text": [
      "protein_after_batch_QC-Mnorm.csv\n",
      "QC-Mnorm\n",
      "swissprot_homo_201604\n",
      "Saccharomyces cerevisiae_201602\n",
      "uniprot-Ecoli_K12_201709\n"
     ]
    },
    {
     "name": "stderr",
     "output_type": "stream",
     "text": [
      "\n",
      "载入程辑包：‘cowplot’\n",
      "\n",
      "The following object is masked from ‘package:ggpubr’:\n",
      "\n",
      "    get_legend\n",
      "\n"
     ]
    },
    {
     "name": "stdout",
     "output_type": "stream",
     "text": [
      "protein_after_batch_raw.csv\n",
      "raw\n",
      "swissprot_homo_201604\n",
      "Saccharomyces cerevisiae_201602\n",
      "uniprot-Ecoli_K12_201709\n"
     ]
    },
    {
     "name": "stderr",
     "output_type": "stream",
     "text": [
      "\n",
      "载入程辑包：‘cowplot’\n",
      "\n",
      "The following object is masked from ‘package:ggpubr’:\n",
      "\n",
      "    get_legend\n",
      "\n"
     ]
    },
    {
     "name": "stdout",
     "output_type": "stream",
     "text": [
      "protein_after_batch_RUVs.csv\n",
      "RUVs\n",
      "swissprot_homo_201604\n",
      "Saccharomyces cerevisiae_201602\n",
      "uniprot-Ecoli_K12_201709\n"
     ]
    },
    {
     "name": "stderr",
     "output_type": "stream",
     "text": [
      "\n",
      "载入程辑包：‘cowplot’\n",
      "\n",
      "The following object is masked from ‘package:ggpubr’:\n",
      "\n",
      "    get_legend\n",
      "\n"
     ]
    },
    {
     "name": "stdout",
     "output_type": "stream",
     "text": [
      "protein_after_batch_Limma.csv\n",
      "Limma\n",
      "swissprot_homo_201604\n",
      "Saccharomyces cerevisiae_201602\n",
      "uniprot-Ecoli_K12_201709\n"
     ]
    },
    {
     "name": "stderr",
     "output_type": "stream",
     "text": [
      "\n",
      "载入程辑包：‘cowplot’\n",
      "\n",
      "The following object is masked from ‘package:ggpubr’:\n",
      "\n",
      "    get_legend\n",
      "\n"
     ]
    },
    {
     "name": "stdout",
     "output_type": "stream",
     "text": [
      "protein_after_batch_Median-Norm.csv\n",
      "Median-Norm\n",
      "swissprot_homo_201604\n",
      "Saccharomyces cerevisiae_201602\n",
      "uniprot-Ecoli_K12_201709\n"
     ]
    },
    {
     "name": "stderr",
     "output_type": "stream",
     "text": [
      "\n",
      "载入程辑包：‘cowplot’\n",
      "\n",
      "The following object is masked from ‘package:ggpubr’:\n",
      "\n",
      "    get_legend\n",
      "\n"
     ]
    }
   ],
   "source": [
    "save_path = \"/home/zhl/projects/batch_effect_correction/new_results/Ratio_allspecies_7methods/\"\n",
    "protein_dir = \"/home/zhl/projects/batch_effect_correction/new_results/protein_after_batch/\"\n",
    "file_dirs = os.listdir(protein_dir)\n",
    "files = [i for i in file_dirs if os.path.splitext(i)[1] == '.csv']\n",
    "species_dirs = [\"swissprot_homo_201604\",\"Saccharomyces cerevisiae_201602\",\"uniprot-Ecoli_K12_201709\"]\n",
    "\n",
    "for i in files:\n",
    "    print(i)\n",
    "    method = i.split(\"protein_after_batch_\")[1].split(\".csv\")[0]\n",
    "    print(method)\n",
    "    df = pd.read_csv(os.path.join(protein_dir,i),index_col=0)\n",
    "    Ratio_data = pd.DataFrame(index=df.index)\n",
    "    \n",
    "    save_file = os.path.join(save_path,\"Protein_Ratio_\"+method + \".csv\")\n",
    "    save_png = os.path.join(save_path,method + \"_Ratio.png\")\n",
    "    save_pdf = os.path.join(save_path,method + \"_Ratio.pdf\")\n",
    "    for species in species_dirs:\n",
    "        print(species)\n",
    "        A = df.columns[df.columns.str.contains(\"_A_\")]\n",
    "        B = df.columns[df.columns.str.contains(\"_B_\")]\n",
    "        df_A = df.loc[df[\"PG.FASTAName\"]==species,:]\n",
    "        df_A = df_A[A]\n",
    "        df_B = df.loc[df[\"PG.FASTAName\"]==species,:]\n",
    "        df_B = df_B[B]\n",
    "        df_AB = pd.merge(df_A,df_B,left_index=True,right_index=True)\n",
    "        \n",
    "        df_median = np.log2(df_AB.T.median())\n",
    "        \n",
    "        df_ratio = df_AB[df_AB.columns[df_AB.columns.str.contains(\"_A_\")]].T.median() / df_AB[df_AB.columns[df_AB.columns.str.contains(\"_B_\")]].T.median()\n",
    "        df_ratio= np.log2(df_ratio)\n",
    "        \n",
    "        Ratio_data[species+\"_log2median\"] = df_median\n",
    "        Ratio_data[species] = df_ratio\n",
    "    Ratio_data.to_csv(save_file)\n",
    "    os.system('Rscript /home/zhl/projects/batch_effect_correction/new_results/R/8.Ratio_density.R {0} {1} {2}'.format(save_file,save_pdf,save_png))         "
   ]
  },
  {
   "cell_type": "markdown",
   "id": "3b774b85",
   "metadata": {},
   "source": [
    "### single_lab ratio"
   ]
  },
  {
   "cell_type": "code",
   "execution_count": 43,
   "id": "26d122d4",
   "metadata": {
    "ExecuteTime": {
     "end_time": "2022-08-16T07:47:26.778003Z",
     "start_time": "2022-08-16T07:47:26.633824Z"
    }
   },
   "outputs": [],
   "source": [
    "path = \"/home/zhl/projects/batch_effect_correction/new_results/protein_after_batch\"\n",
    "lab_pro = pd.read_csv(os.path.join(path,\"protein_after_batch_raw.csv\"))\n",
    "#lab_pro = pd.read_csv(os.path.join(path,\"Protein_filter_MVI0.4.csv\"),na_values='Filtered')\n",
    "cols = [i for i in list(lab_pro.columns) if \"Day\" in i]"
   ]
  },
  {
   "cell_type": "code",
   "execution_count": 44,
   "id": "b7a4eb96",
   "metadata": {
    "ExecuteTime": {
     "end_time": "2022-08-16T07:47:28.515840Z",
     "start_time": "2022-08-16T07:47:28.512158Z"
    }
   },
   "outputs": [],
   "source": [
    "labs = []\n",
    "for col in cols:\n",
    "    lab = col.split(\"_\",1)[0]\n",
    "    labs.append(lab)\n",
    "labs = list(set(labs))"
   ]
  },
  {
   "cell_type": "code",
   "execution_count": 56,
   "id": "201618b0",
   "metadata": {
    "ExecuteTime": {
     "end_time": "2022-08-16T09:29:01.790720Z",
     "start_time": "2022-08-16T09:29:01.787907Z"
    }
   },
   "outputs": [
    {
     "data": {
      "text/plain": [
       "['ISAS',\n",
       " 'SIMM',\n",
       " 'WHIRC',\n",
       " 'ASround1',\n",
       " 'UniSyd',\n",
       " 'BGI',\n",
       " 'MRL',\n",
       " 'VUMC',\n",
       " 'ASround2',\n",
       " 'KISL',\n",
       " 'FMMU',\n",
       " 'ETH']"
      ]
     },
     "execution_count": 56,
     "metadata": {},
     "output_type": "execute_result"
    }
   ],
   "source": [
    "labs"
   ]
  },
  {
   "cell_type": "code",
   "execution_count": 72,
   "id": "c40d2fcf",
   "metadata": {
    "ExecuteTime": {
     "end_time": "2022-08-16T09:41:44.734814Z",
     "start_time": "2022-08-16T09:39:31.756727Z"
    }
   },
   "outputs": [
    {
     "name": "stderr",
     "output_type": "stream",
     "text": [
      "/tmp/ipykernel_50517/391272915.py:6: FutureWarning: The default value of regex will change from True to False in a future version.\n",
      "  group_labs[0] = group[0].str.replace(\"_.*\",\"\")\n",
      "/tmp/ipykernel_50517/391272915.py:6: SettingWithCopyWarning: \n",
      "A value is trying to be set on a copy of a slice from a DataFrame.\n",
      "Try using .loc[row_indexer,col_indexer] = value instead\n",
      "\n",
      "See the caveats in the documentation: https://pandas.pydata.org/pandas-docs/stable/user_guide/indexing.html#returning-a-view-versus-a-copy\n",
      "  group_labs[0] = group[0].str.replace(\"_.*\",\"\")\n"
     ]
    },
    {
     "name": "stdout",
     "output_type": "stream",
     "text": [
      "protein_after_batch_RUVIII.csv\n",
      "ISAS\n",
      "RUVIII\n",
      "swissprot_homo_201604\n",
      "Saccharomyces cerevisiae_201602\n",
      "uniprot-Ecoli_K12_201709\n"
     ]
    },
    {
     "name": "stderr",
     "output_type": "stream",
     "text": [
      "\n",
      "载入程辑包：‘cowplot’\n",
      "\n",
      "The following object is masked from ‘package:ggpubr’:\n",
      "\n",
      "    get_legend\n",
      "\n"
     ]
    },
    {
     "name": "stdout",
     "output_type": "stream",
     "text": [
      "SIMM\n",
      "RUVIII\n",
      "swissprot_homo_201604\n",
      "Saccharomyces cerevisiae_201602\n",
      "uniprot-Ecoli_K12_201709\n"
     ]
    },
    {
     "name": "stderr",
     "output_type": "stream",
     "text": [
      "\n",
      "载入程辑包：‘cowplot’\n",
      "\n",
      "The following object is masked from ‘package:ggpubr’:\n",
      "\n",
      "    get_legend\n",
      "\n"
     ]
    },
    {
     "name": "stdout",
     "output_type": "stream",
     "text": [
      "WHIRC\n",
      "RUVIII\n",
      "swissprot_homo_201604\n",
      "Saccharomyces cerevisiae_201602\n",
      "uniprot-Ecoli_K12_201709\n"
     ]
    },
    {
     "name": "stderr",
     "output_type": "stream",
     "text": [
      "\n",
      "载入程辑包：‘cowplot’\n",
      "\n",
      "The following object is masked from ‘package:ggpubr’:\n",
      "\n",
      "    get_legend\n",
      "\n"
     ]
    },
    {
     "name": "stdout",
     "output_type": "stream",
     "text": [
      "ASround1\n",
      "RUVIII\n",
      "swissprot_homo_201604\n",
      "Saccharomyces cerevisiae_201602\n",
      "uniprot-Ecoli_K12_201709\n"
     ]
    },
    {
     "name": "stderr",
     "output_type": "stream",
     "text": [
      "\n",
      "载入程辑包：‘cowplot’\n",
      "\n",
      "The following object is masked from ‘package:ggpubr’:\n",
      "\n",
      "    get_legend\n",
      "\n"
     ]
    },
    {
     "name": "stdout",
     "output_type": "stream",
     "text": [
      "UniSyd\n",
      "RUVIII\n",
      "swissprot_homo_201604\n",
      "Saccharomyces cerevisiae_201602\n",
      "uniprot-Ecoli_K12_201709\n"
     ]
    },
    {
     "name": "stderr",
     "output_type": "stream",
     "text": [
      "\n",
      "载入程辑包：‘cowplot’\n",
      "\n",
      "The following object is masked from ‘package:ggpubr’:\n",
      "\n",
      "    get_legend\n",
      "\n"
     ]
    },
    {
     "name": "stdout",
     "output_type": "stream",
     "text": [
      "BGI\n",
      "RUVIII\n",
      "swissprot_homo_201604\n",
      "Saccharomyces cerevisiae_201602\n",
      "uniprot-Ecoli_K12_201709\n"
     ]
    },
    {
     "name": "stderr",
     "output_type": "stream",
     "text": [
      "\n",
      "载入程辑包：‘cowplot’\n",
      "\n",
      "The following object is masked from ‘package:ggpubr’:\n",
      "\n",
      "    get_legend\n",
      "\n"
     ]
    },
    {
     "name": "stdout",
     "output_type": "stream",
     "text": [
      "MRL\n",
      "RUVIII\n",
      "swissprot_homo_201604\n",
      "Saccharomyces cerevisiae_201602\n",
      "uniprot-Ecoli_K12_201709\n"
     ]
    },
    {
     "name": "stderr",
     "output_type": "stream",
     "text": [
      "\n",
      "载入程辑包：‘cowplot’\n",
      "\n",
      "The following object is masked from ‘package:ggpubr’:\n",
      "\n",
      "    get_legend\n",
      "\n"
     ]
    },
    {
     "name": "stdout",
     "output_type": "stream",
     "text": [
      "VUMC\n",
      "RUVIII\n",
      "swissprot_homo_201604\n",
      "Saccharomyces cerevisiae_201602\n",
      "uniprot-Ecoli_K12_201709\n"
     ]
    },
    {
     "name": "stderr",
     "output_type": "stream",
     "text": [
      "\n",
      "载入程辑包：‘cowplot’\n",
      "\n",
      "The following object is masked from ‘package:ggpubr’:\n",
      "\n",
      "    get_legend\n",
      "\n"
     ]
    },
    {
     "name": "stdout",
     "output_type": "stream",
     "text": [
      "ASround2\n",
      "RUVIII\n",
      "swissprot_homo_201604\n",
      "Saccharomyces cerevisiae_201602\n",
      "uniprot-Ecoli_K12_201709\n"
     ]
    },
    {
     "name": "stderr",
     "output_type": "stream",
     "text": [
      "\n",
      "载入程辑包：‘cowplot’\n",
      "\n",
      "The following object is masked from ‘package:ggpubr’:\n",
      "\n",
      "    get_legend\n",
      "\n"
     ]
    },
    {
     "name": "stdout",
     "output_type": "stream",
     "text": [
      "KISL\n",
      "RUVIII\n",
      "swissprot_homo_201604\n",
      "Saccharomyces cerevisiae_201602\n",
      "uniprot-Ecoli_K12_201709\n"
     ]
    },
    {
     "name": "stderr",
     "output_type": "stream",
     "text": [
      "\n",
      "载入程辑包：‘cowplot’\n",
      "\n",
      "The following object is masked from ‘package:ggpubr’:\n",
      "\n",
      "    get_legend\n",
      "\n"
     ]
    },
    {
     "name": "stdout",
     "output_type": "stream",
     "text": [
      "FMMU\n",
      "RUVIII\n",
      "swissprot_homo_201604\n",
      "Saccharomyces cerevisiae_201602\n",
      "uniprot-Ecoli_K12_201709\n"
     ]
    },
    {
     "name": "stderr",
     "output_type": "stream",
     "text": [
      "\n",
      "载入程辑包：‘cowplot’\n",
      "\n",
      "The following object is masked from ‘package:ggpubr’:\n",
      "\n",
      "    get_legend\n",
      "\n"
     ]
    },
    {
     "name": "stdout",
     "output_type": "stream",
     "text": [
      "ETH\n",
      "RUVIII\n",
      "swissprot_homo_201604\n",
      "Saccharomyces cerevisiae_201602\n",
      "uniprot-Ecoli_K12_201709\n"
     ]
    },
    {
     "name": "stderr",
     "output_type": "stream",
     "text": [
      "\n",
      "载入程辑包：‘cowplot’\n",
      "\n",
      "The following object is masked from ‘package:ggpubr’:\n",
      "\n",
      "    get_legend\n",
      "\n"
     ]
    },
    {
     "name": "stdout",
     "output_type": "stream",
     "text": [
      "protein_after_batch_RUVg.csv\n",
      "ISAS\n",
      "RUVg\n",
      "swissprot_homo_201604\n",
      "Saccharomyces cerevisiae_201602\n",
      "uniprot-Ecoli_K12_201709\n"
     ]
    },
    {
     "name": "stderr",
     "output_type": "stream",
     "text": [
      "\n",
      "载入程辑包：‘cowplot’\n",
      "\n",
      "The following object is masked from ‘package:ggpubr’:\n",
      "\n",
      "    get_legend\n",
      "\n"
     ]
    },
    {
     "name": "stdout",
     "output_type": "stream",
     "text": [
      "SIMM\n",
      "RUVg\n",
      "swissprot_homo_201604\n",
      "Saccharomyces cerevisiae_201602\n",
      "uniprot-Ecoli_K12_201709\n"
     ]
    },
    {
     "name": "stderr",
     "output_type": "stream",
     "text": [
      "\n",
      "载入程辑包：‘cowplot’\n",
      "\n",
      "The following object is masked from ‘package:ggpubr’:\n",
      "\n",
      "    get_legend\n",
      "\n"
     ]
    },
    {
     "name": "stdout",
     "output_type": "stream",
     "text": [
      "WHIRC\n",
      "RUVg\n",
      "swissprot_homo_201604\n",
      "Saccharomyces cerevisiae_201602\n",
      "uniprot-Ecoli_K12_201709\n"
     ]
    },
    {
     "name": "stderr",
     "output_type": "stream",
     "text": [
      "\n",
      "载入程辑包：‘cowplot’\n",
      "\n",
      "The following object is masked from ‘package:ggpubr’:\n",
      "\n",
      "    get_legend\n",
      "\n"
     ]
    },
    {
     "name": "stdout",
     "output_type": "stream",
     "text": [
      "ASround1\n",
      "RUVg\n",
      "swissprot_homo_201604\n",
      "Saccharomyces cerevisiae_201602\n",
      "uniprot-Ecoli_K12_201709\n"
     ]
    },
    {
     "name": "stderr",
     "output_type": "stream",
     "text": [
      "\n",
      "载入程辑包：‘cowplot’\n",
      "\n",
      "The following object is masked from ‘package:ggpubr’:\n",
      "\n",
      "    get_legend\n",
      "\n"
     ]
    },
    {
     "name": "stdout",
     "output_type": "stream",
     "text": [
      "UniSyd\n",
      "RUVg\n",
      "swissprot_homo_201604\n",
      "Saccharomyces cerevisiae_201602\n",
      "uniprot-Ecoli_K12_201709\n"
     ]
    },
    {
     "name": "stderr",
     "output_type": "stream",
     "text": [
      "\n",
      "载入程辑包：‘cowplot’\n",
      "\n",
      "The following object is masked from ‘package:ggpubr’:\n",
      "\n",
      "    get_legend\n",
      "\n"
     ]
    },
    {
     "name": "stdout",
     "output_type": "stream",
     "text": [
      "BGI\n",
      "RUVg\n",
      "swissprot_homo_201604\n",
      "Saccharomyces cerevisiae_201602\n",
      "uniprot-Ecoli_K12_201709\n"
     ]
    },
    {
     "name": "stderr",
     "output_type": "stream",
     "text": [
      "\n",
      "载入程辑包：‘cowplot’\n",
      "\n",
      "The following object is masked from ‘package:ggpubr’:\n",
      "\n",
      "    get_legend\n",
      "\n"
     ]
    },
    {
     "name": "stdout",
     "output_type": "stream",
     "text": [
      "MRL\n",
      "RUVg\n",
      "swissprot_homo_201604\n",
      "Saccharomyces cerevisiae_201602\n",
      "uniprot-Ecoli_K12_201709\n"
     ]
    },
    {
     "name": "stderr",
     "output_type": "stream",
     "text": [
      "\n",
      "载入程辑包：‘cowplot’\n",
      "\n",
      "The following object is masked from ‘package:ggpubr’:\n",
      "\n",
      "    get_legend\n",
      "\n"
     ]
    },
    {
     "name": "stdout",
     "output_type": "stream",
     "text": [
      "VUMC\n",
      "RUVg\n",
      "swissprot_homo_201604\n",
      "Saccharomyces cerevisiae_201602\n",
      "uniprot-Ecoli_K12_201709\n"
     ]
    },
    {
     "name": "stderr",
     "output_type": "stream",
     "text": [
      "\n",
      "载入程辑包：‘cowplot’\n",
      "\n",
      "The following object is masked from ‘package:ggpubr’:\n",
      "\n",
      "    get_legend\n",
      "\n"
     ]
    },
    {
     "name": "stdout",
     "output_type": "stream",
     "text": [
      "ASround2\n",
      "RUVg\n",
      "swissprot_homo_201604\n",
      "Saccharomyces cerevisiae_201602\n",
      "uniprot-Ecoli_K12_201709\n"
     ]
    },
    {
     "name": "stderr",
     "output_type": "stream",
     "text": [
      "\n",
      "载入程辑包：‘cowplot’\n",
      "\n",
      "The following object is masked from ‘package:ggpubr’:\n",
      "\n",
      "    get_legend\n",
      "\n"
     ]
    },
    {
     "name": "stdout",
     "output_type": "stream",
     "text": [
      "KISL\n",
      "RUVg\n",
      "swissprot_homo_201604\n",
      "Saccharomyces cerevisiae_201602\n",
      "uniprot-Ecoli_K12_201709\n"
     ]
    },
    {
     "name": "stderr",
     "output_type": "stream",
     "text": [
      "\n",
      "载入程辑包：‘cowplot’\n",
      "\n",
      "The following object is masked from ‘package:ggpubr’:\n",
      "\n",
      "    get_legend\n",
      "\n"
     ]
    },
    {
     "name": "stdout",
     "output_type": "stream",
     "text": [
      "FMMU\n",
      "RUVg\n",
      "swissprot_homo_201604\n",
      "Saccharomyces cerevisiae_201602\n",
      "uniprot-Ecoli_K12_201709\n"
     ]
    },
    {
     "name": "stderr",
     "output_type": "stream",
     "text": [
      "\n",
      "载入程辑包：‘cowplot’\n",
      "\n",
      "The following object is masked from ‘package:ggpubr’:\n",
      "\n",
      "    get_legend\n",
      "\n"
     ]
    },
    {
     "name": "stdout",
     "output_type": "stream",
     "text": [
      "ETH\n",
      "RUVg\n",
      "swissprot_homo_201604\n",
      "Saccharomyces cerevisiae_201602\n",
      "uniprot-Ecoli_K12_201709\n"
     ]
    },
    {
     "name": "stderr",
     "output_type": "stream",
     "text": [
      "\n",
      "载入程辑包：‘cowplot’\n",
      "\n",
      "The following object is masked from ‘package:ggpubr’:\n",
      "\n",
      "    get_legend\n",
      "\n"
     ]
    },
    {
     "name": "stdout",
     "output_type": "stream",
     "text": [
      "protein_after_batch_Combat.csv\n",
      "ISAS\n",
      "Combat\n",
      "swissprot_homo_201604\n",
      "Saccharomyces cerevisiae_201602\n",
      "uniprot-Ecoli_K12_201709\n"
     ]
    },
    {
     "name": "stderr",
     "output_type": "stream",
     "text": [
      "\n",
      "载入程辑包：‘cowplot’\n",
      "\n",
      "The following object is masked from ‘package:ggpubr’:\n",
      "\n",
      "    get_legend\n",
      "\n"
     ]
    },
    {
     "name": "stdout",
     "output_type": "stream",
     "text": [
      "SIMM\n",
      "Combat\n",
      "swissprot_homo_201604\n",
      "Saccharomyces cerevisiae_201602\n",
      "uniprot-Ecoli_K12_201709\n"
     ]
    },
    {
     "name": "stderr",
     "output_type": "stream",
     "text": [
      "\n",
      "载入程辑包：‘cowplot’\n",
      "\n",
      "The following object is masked from ‘package:ggpubr’:\n",
      "\n",
      "    get_legend\n",
      "\n"
     ]
    },
    {
     "name": "stdout",
     "output_type": "stream",
     "text": [
      "WHIRC\n",
      "Combat\n",
      "swissprot_homo_201604\n",
      "Saccharomyces cerevisiae_201602\n",
      "uniprot-Ecoli_K12_201709\n"
     ]
    },
    {
     "name": "stderr",
     "output_type": "stream",
     "text": [
      "\n",
      "载入程辑包：‘cowplot’\n",
      "\n",
      "The following object is masked from ‘package:ggpubr’:\n",
      "\n",
      "    get_legend\n",
      "\n"
     ]
    },
    {
     "name": "stdout",
     "output_type": "stream",
     "text": [
      "ASround1\n",
      "Combat\n",
      "swissprot_homo_201604\n",
      "Saccharomyces cerevisiae_201602\n",
      "uniprot-Ecoli_K12_201709\n"
     ]
    },
    {
     "name": "stderr",
     "output_type": "stream",
     "text": [
      "\n",
      "载入程辑包：‘cowplot’\n",
      "\n",
      "The following object is masked from ‘package:ggpubr’:\n",
      "\n",
      "    get_legend\n",
      "\n"
     ]
    },
    {
     "name": "stdout",
     "output_type": "stream",
     "text": [
      "UniSyd\n",
      "Combat\n",
      "swissprot_homo_201604\n",
      "Saccharomyces cerevisiae_201602\n",
      "uniprot-Ecoli_K12_201709\n"
     ]
    },
    {
     "name": "stderr",
     "output_type": "stream",
     "text": [
      "\n",
      "载入程辑包：‘cowplot’\n",
      "\n",
      "The following object is masked from ‘package:ggpubr’:\n",
      "\n",
      "    get_legend\n",
      "\n"
     ]
    },
    {
     "name": "stdout",
     "output_type": "stream",
     "text": [
      "BGI\n",
      "Combat\n",
      "swissprot_homo_201604\n",
      "Saccharomyces cerevisiae_201602\n",
      "uniprot-Ecoli_K12_201709\n"
     ]
    },
    {
     "name": "stderr",
     "output_type": "stream",
     "text": [
      "\n",
      "载入程辑包：‘cowplot’\n",
      "\n",
      "The following object is masked from ‘package:ggpubr’:\n",
      "\n",
      "    get_legend\n",
      "\n"
     ]
    },
    {
     "name": "stdout",
     "output_type": "stream",
     "text": [
      "MRL\n",
      "Combat\n",
      "swissprot_homo_201604\n",
      "Saccharomyces cerevisiae_201602\n",
      "uniprot-Ecoli_K12_201709\n"
     ]
    },
    {
     "name": "stderr",
     "output_type": "stream",
     "text": [
      "\n",
      "载入程辑包：‘cowplot’\n",
      "\n",
      "The following object is masked from ‘package:ggpubr’:\n",
      "\n",
      "    get_legend\n",
      "\n"
     ]
    },
    {
     "name": "stdout",
     "output_type": "stream",
     "text": [
      "VUMC\n",
      "Combat\n",
      "swissprot_homo_201604\n",
      "Saccharomyces cerevisiae_201602\n",
      "uniprot-Ecoli_K12_201709\n"
     ]
    },
    {
     "name": "stderr",
     "output_type": "stream",
     "text": [
      "\n",
      "载入程辑包：‘cowplot’\n",
      "\n",
      "The following object is masked from ‘package:ggpubr’:\n",
      "\n",
      "    get_legend\n",
      "\n"
     ]
    },
    {
     "name": "stdout",
     "output_type": "stream",
     "text": [
      "ASround2\n",
      "Combat\n",
      "swissprot_homo_201604\n",
      "Saccharomyces cerevisiae_201602\n",
      "uniprot-Ecoli_K12_201709\n"
     ]
    },
    {
     "name": "stderr",
     "output_type": "stream",
     "text": [
      "\n",
      "载入程辑包：‘cowplot’\n",
      "\n",
      "The following object is masked from ‘package:ggpubr’:\n",
      "\n",
      "    get_legend\n",
      "\n"
     ]
    },
    {
     "name": "stdout",
     "output_type": "stream",
     "text": [
      "KISL\n",
      "Combat\n",
      "swissprot_homo_201604\n",
      "Saccharomyces cerevisiae_201602\n",
      "uniprot-Ecoli_K12_201709\n"
     ]
    },
    {
     "name": "stderr",
     "output_type": "stream",
     "text": [
      "\n",
      "载入程辑包：‘cowplot’\n",
      "\n",
      "The following object is masked from ‘package:ggpubr’:\n",
      "\n",
      "    get_legend\n",
      "\n"
     ]
    },
    {
     "name": "stdout",
     "output_type": "stream",
     "text": [
      "FMMU\n",
      "Combat\n",
      "swissprot_homo_201604\n",
      "Saccharomyces cerevisiae_201602\n",
      "uniprot-Ecoli_K12_201709\n"
     ]
    },
    {
     "name": "stderr",
     "output_type": "stream",
     "text": [
      "\n",
      "载入程辑包：‘cowplot’\n",
      "\n",
      "The following object is masked from ‘package:ggpubr’:\n",
      "\n",
      "    get_legend\n",
      "\n"
     ]
    },
    {
     "name": "stdout",
     "output_type": "stream",
     "text": [
      "ETH\n",
      "Combat\n",
      "swissprot_homo_201604\n",
      "Saccharomyces cerevisiae_201602\n",
      "uniprot-Ecoli_K12_201709\n"
     ]
    },
    {
     "name": "stderr",
     "output_type": "stream",
     "text": [
      "\n",
      "载入程辑包：‘cowplot’\n",
      "\n",
      "The following object is masked from ‘package:ggpubr’:\n",
      "\n",
      "    get_legend\n",
      "\n"
     ]
    },
    {
     "name": "stdout",
     "output_type": "stream",
     "text": [
      "protein_after_batch_QC-Mnorm.csv\n",
      "ISAS\n",
      "QC-Mnorm\n",
      "swissprot_homo_201604\n",
      "Saccharomyces cerevisiae_201602\n",
      "uniprot-Ecoli_K12_201709\n"
     ]
    },
    {
     "name": "stderr",
     "output_type": "stream",
     "text": [
      "\n",
      "载入程辑包：‘cowplot’\n",
      "\n",
      "The following object is masked from ‘package:ggpubr’:\n",
      "\n",
      "    get_legend\n",
      "\n"
     ]
    },
    {
     "name": "stdout",
     "output_type": "stream",
     "text": [
      "SIMM\n",
      "QC-Mnorm\n",
      "swissprot_homo_201604\n",
      "Saccharomyces cerevisiae_201602\n",
      "uniprot-Ecoli_K12_201709\n"
     ]
    },
    {
     "name": "stderr",
     "output_type": "stream",
     "text": [
      "\n",
      "载入程辑包：‘cowplot’\n",
      "\n",
      "The following object is masked from ‘package:ggpubr’:\n",
      "\n",
      "    get_legend\n",
      "\n"
     ]
    },
    {
     "name": "stdout",
     "output_type": "stream",
     "text": [
      "WHIRC\n",
      "QC-Mnorm\n",
      "swissprot_homo_201604\n",
      "Saccharomyces cerevisiae_201602\n",
      "uniprot-Ecoli_K12_201709\n"
     ]
    },
    {
     "name": "stderr",
     "output_type": "stream",
     "text": [
      "\n",
      "载入程辑包：‘cowplot’\n",
      "\n",
      "The following object is masked from ‘package:ggpubr’:\n",
      "\n",
      "    get_legend\n",
      "\n"
     ]
    },
    {
     "name": "stdout",
     "output_type": "stream",
     "text": [
      "ASround1\n",
      "QC-Mnorm\n",
      "swissprot_homo_201604\n",
      "Saccharomyces cerevisiae_201602\n",
      "uniprot-Ecoli_K12_201709\n"
     ]
    },
    {
     "name": "stderr",
     "output_type": "stream",
     "text": [
      "\n",
      "载入程辑包：‘cowplot’\n",
      "\n",
      "The following object is masked from ‘package:ggpubr’:\n",
      "\n",
      "    get_legend\n",
      "\n"
     ]
    },
    {
     "name": "stdout",
     "output_type": "stream",
     "text": [
      "UniSyd\n",
      "QC-Mnorm\n",
      "swissprot_homo_201604\n",
      "Saccharomyces cerevisiae_201602\n",
      "uniprot-Ecoli_K12_201709\n"
     ]
    },
    {
     "name": "stderr",
     "output_type": "stream",
     "text": [
      "\n",
      "载入程辑包：‘cowplot’\n",
      "\n",
      "The following object is masked from ‘package:ggpubr’:\n",
      "\n",
      "    get_legend\n",
      "\n"
     ]
    },
    {
     "name": "stdout",
     "output_type": "stream",
     "text": [
      "BGI\n",
      "QC-Mnorm\n",
      "swissprot_homo_201604\n",
      "Saccharomyces cerevisiae_201602\n",
      "uniprot-Ecoli_K12_201709\n"
     ]
    },
    {
     "name": "stderr",
     "output_type": "stream",
     "text": [
      "\n",
      "载入程辑包：‘cowplot’\n",
      "\n",
      "The following object is masked from ‘package:ggpubr’:\n",
      "\n",
      "    get_legend\n",
      "\n"
     ]
    },
    {
     "name": "stdout",
     "output_type": "stream",
     "text": [
      "MRL\n",
      "QC-Mnorm\n",
      "swissprot_homo_201604\n",
      "Saccharomyces cerevisiae_201602\n",
      "uniprot-Ecoli_K12_201709\n"
     ]
    },
    {
     "name": "stderr",
     "output_type": "stream",
     "text": [
      "\n",
      "载入程辑包：‘cowplot’\n",
      "\n",
      "The following object is masked from ‘package:ggpubr’:\n",
      "\n",
      "    get_legend\n",
      "\n"
     ]
    },
    {
     "name": "stdout",
     "output_type": "stream",
     "text": [
      "VUMC\n",
      "QC-Mnorm\n",
      "swissprot_homo_201604\n",
      "Saccharomyces cerevisiae_201602\n",
      "uniprot-Ecoli_K12_201709\n"
     ]
    },
    {
     "name": "stderr",
     "output_type": "stream",
     "text": [
      "\n",
      "载入程辑包：‘cowplot’\n",
      "\n",
      "The following object is masked from ‘package:ggpubr’:\n",
      "\n",
      "    get_legend\n",
      "\n"
     ]
    },
    {
     "name": "stdout",
     "output_type": "stream",
     "text": [
      "ASround2\n",
      "QC-Mnorm\n",
      "swissprot_homo_201604\n",
      "Saccharomyces cerevisiae_201602\n",
      "uniprot-Ecoli_K12_201709\n"
     ]
    },
    {
     "name": "stderr",
     "output_type": "stream",
     "text": [
      "\n",
      "载入程辑包：‘cowplot’\n",
      "\n",
      "The following object is masked from ‘package:ggpubr’:\n",
      "\n",
      "    get_legend\n",
      "\n"
     ]
    },
    {
     "name": "stdout",
     "output_type": "stream",
     "text": [
      "KISL\n",
      "QC-Mnorm\n",
      "swissprot_homo_201604\n",
      "Saccharomyces cerevisiae_201602\n",
      "uniprot-Ecoli_K12_201709\n"
     ]
    },
    {
     "name": "stderr",
     "output_type": "stream",
     "text": [
      "\n",
      "载入程辑包：‘cowplot’\n",
      "\n",
      "The following object is masked from ‘package:ggpubr’:\n",
      "\n",
      "    get_legend\n",
      "\n"
     ]
    },
    {
     "name": "stdout",
     "output_type": "stream",
     "text": [
      "FMMU\n",
      "QC-Mnorm\n",
      "swissprot_homo_201604\n",
      "Saccharomyces cerevisiae_201602\n",
      "uniprot-Ecoli_K12_201709\n"
     ]
    },
    {
     "name": "stderr",
     "output_type": "stream",
     "text": [
      "\n",
      "载入程辑包：‘cowplot’\n",
      "\n",
      "The following object is masked from ‘package:ggpubr’:\n",
      "\n",
      "    get_legend\n",
      "\n"
     ]
    },
    {
     "name": "stdout",
     "output_type": "stream",
     "text": [
      "ETH\n",
      "QC-Mnorm\n",
      "swissprot_homo_201604\n",
      "Saccharomyces cerevisiae_201602\n",
      "uniprot-Ecoli_K12_201709\n"
     ]
    },
    {
     "name": "stderr",
     "output_type": "stream",
     "text": [
      "\n",
      "载入程辑包：‘cowplot’\n",
      "\n",
      "The following object is masked from ‘package:ggpubr’:\n",
      "\n",
      "    get_legend\n",
      "\n"
     ]
    },
    {
     "name": "stdout",
     "output_type": "stream",
     "text": [
      "protein_after_batch_raw.csv\n",
      "ISAS\n",
      "raw\n",
      "swissprot_homo_201604\n",
      "Saccharomyces cerevisiae_201602\n",
      "uniprot-Ecoli_K12_201709\n"
     ]
    },
    {
     "name": "stderr",
     "output_type": "stream",
     "text": [
      "\n",
      "载入程辑包：‘cowplot’\n",
      "\n",
      "The following object is masked from ‘package:ggpubr’:\n",
      "\n",
      "    get_legend\n",
      "\n"
     ]
    },
    {
     "name": "stdout",
     "output_type": "stream",
     "text": [
      "SIMM\n",
      "raw\n",
      "swissprot_homo_201604\n",
      "Saccharomyces cerevisiae_201602\n",
      "uniprot-Ecoli_K12_201709\n"
     ]
    },
    {
     "name": "stderr",
     "output_type": "stream",
     "text": [
      "\n",
      "载入程辑包：‘cowplot’\n",
      "\n",
      "The following object is masked from ‘package:ggpubr’:\n",
      "\n",
      "    get_legend\n",
      "\n"
     ]
    },
    {
     "name": "stdout",
     "output_type": "stream",
     "text": [
      "WHIRC\n",
      "raw\n",
      "swissprot_homo_201604\n",
      "Saccharomyces cerevisiae_201602\n",
      "uniprot-Ecoli_K12_201709\n"
     ]
    },
    {
     "name": "stderr",
     "output_type": "stream",
     "text": [
      "\n",
      "载入程辑包：‘cowplot’\n",
      "\n",
      "The following object is masked from ‘package:ggpubr’:\n",
      "\n",
      "    get_legend\n",
      "\n"
     ]
    },
    {
     "name": "stdout",
     "output_type": "stream",
     "text": [
      "ASround1\n",
      "raw\n",
      "swissprot_homo_201604\n",
      "Saccharomyces cerevisiae_201602\n",
      "uniprot-Ecoli_K12_201709\n"
     ]
    },
    {
     "name": "stderr",
     "output_type": "stream",
     "text": [
      "\n",
      "载入程辑包：‘cowplot’\n",
      "\n",
      "The following object is masked from ‘package:ggpubr’:\n",
      "\n",
      "    get_legend\n",
      "\n"
     ]
    },
    {
     "name": "stdout",
     "output_type": "stream",
     "text": [
      "UniSyd\n",
      "raw\n",
      "swissprot_homo_201604\n",
      "Saccharomyces cerevisiae_201602\n",
      "uniprot-Ecoli_K12_201709\n"
     ]
    },
    {
     "name": "stderr",
     "output_type": "stream",
     "text": [
      "\n",
      "载入程辑包：‘cowplot’\n",
      "\n",
      "The following object is masked from ‘package:ggpubr’:\n",
      "\n",
      "    get_legend\n",
      "\n"
     ]
    },
    {
     "name": "stdout",
     "output_type": "stream",
     "text": [
      "BGI\n",
      "raw\n",
      "swissprot_homo_201604\n",
      "Saccharomyces cerevisiae_201602\n",
      "uniprot-Ecoli_K12_201709\n"
     ]
    },
    {
     "name": "stderr",
     "output_type": "stream",
     "text": [
      "\n",
      "载入程辑包：‘cowplot’\n",
      "\n",
      "The following object is masked from ‘package:ggpubr’:\n",
      "\n",
      "    get_legend\n",
      "\n"
     ]
    },
    {
     "name": "stdout",
     "output_type": "stream",
     "text": [
      "MRL\n",
      "raw\n",
      "swissprot_homo_201604\n",
      "Saccharomyces cerevisiae_201602\n",
      "uniprot-Ecoli_K12_201709\n"
     ]
    },
    {
     "name": "stderr",
     "output_type": "stream",
     "text": [
      "\n",
      "载入程辑包：‘cowplot’\n",
      "\n",
      "The following object is masked from ‘package:ggpubr’:\n",
      "\n",
      "    get_legend\n",
      "\n"
     ]
    },
    {
     "name": "stdout",
     "output_type": "stream",
     "text": [
      "VUMC\n",
      "raw\n",
      "swissprot_homo_201604\n",
      "Saccharomyces cerevisiae_201602\n",
      "uniprot-Ecoli_K12_201709\n"
     ]
    },
    {
     "name": "stderr",
     "output_type": "stream",
     "text": [
      "\n",
      "载入程辑包：‘cowplot’\n",
      "\n",
      "The following object is masked from ‘package:ggpubr’:\n",
      "\n",
      "    get_legend\n",
      "\n"
     ]
    },
    {
     "name": "stdout",
     "output_type": "stream",
     "text": [
      "ASround2\n",
      "raw\n",
      "swissprot_homo_201604\n",
      "Saccharomyces cerevisiae_201602\n",
      "uniprot-Ecoli_K12_201709\n"
     ]
    },
    {
     "name": "stderr",
     "output_type": "stream",
     "text": [
      "\n",
      "载入程辑包：‘cowplot’\n",
      "\n",
      "The following object is masked from ‘package:ggpubr’:\n",
      "\n",
      "    get_legend\n",
      "\n"
     ]
    },
    {
     "name": "stdout",
     "output_type": "stream",
     "text": [
      "KISL\n",
      "raw\n",
      "swissprot_homo_201604\n",
      "Saccharomyces cerevisiae_201602\n",
      "uniprot-Ecoli_K12_201709\n"
     ]
    },
    {
     "name": "stderr",
     "output_type": "stream",
     "text": [
      "\n",
      "载入程辑包：‘cowplot’\n",
      "\n",
      "The following object is masked from ‘package:ggpubr’:\n",
      "\n",
      "    get_legend\n",
      "\n"
     ]
    },
    {
     "name": "stdout",
     "output_type": "stream",
     "text": [
      "FMMU\n",
      "raw\n",
      "swissprot_homo_201604\n",
      "Saccharomyces cerevisiae_201602\n",
      "uniprot-Ecoli_K12_201709\n"
     ]
    },
    {
     "name": "stderr",
     "output_type": "stream",
     "text": [
      "\n",
      "载入程辑包：‘cowplot’\n",
      "\n",
      "The following object is masked from ‘package:ggpubr’:\n",
      "\n",
      "    get_legend\n",
      "\n"
     ]
    },
    {
     "name": "stdout",
     "output_type": "stream",
     "text": [
      "ETH\n",
      "raw\n",
      "swissprot_homo_201604\n",
      "Saccharomyces cerevisiae_201602\n",
      "uniprot-Ecoli_K12_201709\n"
     ]
    },
    {
     "name": "stderr",
     "output_type": "stream",
     "text": [
      "\n",
      "载入程辑包：‘cowplot’\n",
      "\n",
      "The following object is masked from ‘package:ggpubr’:\n",
      "\n",
      "    get_legend\n",
      "\n"
     ]
    },
    {
     "name": "stdout",
     "output_type": "stream",
     "text": [
      "protein_after_batch_RUVs.csv\n",
      "ISAS\n",
      "RUVs\n",
      "swissprot_homo_201604\n",
      "Saccharomyces cerevisiae_201602\n",
      "uniprot-Ecoli_K12_201709\n"
     ]
    },
    {
     "name": "stderr",
     "output_type": "stream",
     "text": [
      "\n",
      "载入程辑包：‘cowplot’\n",
      "\n",
      "The following object is masked from ‘package:ggpubr’:\n",
      "\n",
      "    get_legend\n",
      "\n"
     ]
    },
    {
     "name": "stdout",
     "output_type": "stream",
     "text": [
      "SIMM\n",
      "RUVs\n",
      "swissprot_homo_201604\n",
      "Saccharomyces cerevisiae_201602\n",
      "uniprot-Ecoli_K12_201709\n"
     ]
    },
    {
     "name": "stderr",
     "output_type": "stream",
     "text": [
      "\n",
      "载入程辑包：‘cowplot’\n",
      "\n",
      "The following object is masked from ‘package:ggpubr’:\n",
      "\n",
      "    get_legend\n",
      "\n"
     ]
    },
    {
     "name": "stdout",
     "output_type": "stream",
     "text": [
      "WHIRC\n",
      "RUVs\n",
      "swissprot_homo_201604\n",
      "Saccharomyces cerevisiae_201602\n",
      "uniprot-Ecoli_K12_201709\n"
     ]
    },
    {
     "name": "stderr",
     "output_type": "stream",
     "text": [
      "\n",
      "载入程辑包：‘cowplot’\n",
      "\n",
      "The following object is masked from ‘package:ggpubr’:\n",
      "\n",
      "    get_legend\n",
      "\n"
     ]
    },
    {
     "name": "stdout",
     "output_type": "stream",
     "text": [
      "ASround1\n",
      "RUVs\n",
      "swissprot_homo_201604\n",
      "Saccharomyces cerevisiae_201602\n",
      "uniprot-Ecoli_K12_201709\n"
     ]
    },
    {
     "name": "stderr",
     "output_type": "stream",
     "text": [
      "\n",
      "载入程辑包：‘cowplot’\n",
      "\n",
      "The following object is masked from ‘package:ggpubr’:\n",
      "\n",
      "    get_legend\n",
      "\n"
     ]
    },
    {
     "name": "stdout",
     "output_type": "stream",
     "text": [
      "UniSyd\n",
      "RUVs\n",
      "swissprot_homo_201604\n",
      "Saccharomyces cerevisiae_201602\n",
      "uniprot-Ecoli_K12_201709\n"
     ]
    },
    {
     "name": "stderr",
     "output_type": "stream",
     "text": [
      "\n",
      "载入程辑包：‘cowplot’\n",
      "\n",
      "The following object is masked from ‘package:ggpubr’:\n",
      "\n",
      "    get_legend\n",
      "\n"
     ]
    },
    {
     "name": "stdout",
     "output_type": "stream",
     "text": [
      "BGI\n",
      "RUVs\n",
      "swissprot_homo_201604\n",
      "Saccharomyces cerevisiae_201602\n",
      "uniprot-Ecoli_K12_201709\n"
     ]
    },
    {
     "name": "stderr",
     "output_type": "stream",
     "text": [
      "\n",
      "载入程辑包：‘cowplot’\n",
      "\n",
      "The following object is masked from ‘package:ggpubr’:\n",
      "\n",
      "    get_legend\n",
      "\n"
     ]
    },
    {
     "name": "stdout",
     "output_type": "stream",
     "text": [
      "MRL\n",
      "RUVs\n",
      "swissprot_homo_201604\n",
      "Saccharomyces cerevisiae_201602\n",
      "uniprot-Ecoli_K12_201709\n"
     ]
    },
    {
     "name": "stderr",
     "output_type": "stream",
     "text": [
      "\n",
      "载入程辑包：‘cowplot’\n",
      "\n",
      "The following object is masked from ‘package:ggpubr’:\n",
      "\n",
      "    get_legend\n",
      "\n"
     ]
    },
    {
     "name": "stdout",
     "output_type": "stream",
     "text": [
      "VUMC\n",
      "RUVs\n",
      "swissprot_homo_201604\n",
      "Saccharomyces cerevisiae_201602\n",
      "uniprot-Ecoli_K12_201709\n"
     ]
    },
    {
     "name": "stderr",
     "output_type": "stream",
     "text": [
      "\n",
      "载入程辑包：‘cowplot’\n",
      "\n",
      "The following object is masked from ‘package:ggpubr’:\n",
      "\n",
      "    get_legend\n",
      "\n"
     ]
    },
    {
     "name": "stdout",
     "output_type": "stream",
     "text": [
      "ASround2\n",
      "RUVs\n",
      "swissprot_homo_201604\n",
      "Saccharomyces cerevisiae_201602\n",
      "uniprot-Ecoli_K12_201709\n"
     ]
    },
    {
     "name": "stderr",
     "output_type": "stream",
     "text": [
      "\n",
      "载入程辑包：‘cowplot’\n",
      "\n",
      "The following object is masked from ‘package:ggpubr’:\n",
      "\n",
      "    get_legend\n",
      "\n"
     ]
    },
    {
     "name": "stdout",
     "output_type": "stream",
     "text": [
      "KISL\n",
      "RUVs\n",
      "swissprot_homo_201604\n",
      "Saccharomyces cerevisiae_201602\n",
      "uniprot-Ecoli_K12_201709\n"
     ]
    },
    {
     "name": "stderr",
     "output_type": "stream",
     "text": [
      "\n",
      "载入程辑包：‘cowplot’\n",
      "\n",
      "The following object is masked from ‘package:ggpubr’:\n",
      "\n",
      "    get_legend\n",
      "\n"
     ]
    },
    {
     "name": "stdout",
     "output_type": "stream",
     "text": [
      "FMMU\n",
      "RUVs\n",
      "swissprot_homo_201604\n",
      "Saccharomyces cerevisiae_201602\n",
      "uniprot-Ecoli_K12_201709\n"
     ]
    },
    {
     "name": "stderr",
     "output_type": "stream",
     "text": [
      "\n",
      "载入程辑包：‘cowplot’\n",
      "\n",
      "The following object is masked from ‘package:ggpubr’:\n",
      "\n",
      "    get_legend\n",
      "\n"
     ]
    },
    {
     "name": "stdout",
     "output_type": "stream",
     "text": [
      "ETH\n",
      "RUVs\n",
      "swissprot_homo_201604\n",
      "Saccharomyces cerevisiae_201602\n",
      "uniprot-Ecoli_K12_201709\n"
     ]
    },
    {
     "name": "stderr",
     "output_type": "stream",
     "text": [
      "\n",
      "载入程辑包：‘cowplot’\n",
      "\n",
      "The following object is masked from ‘package:ggpubr’:\n",
      "\n",
      "    get_legend\n",
      "\n"
     ]
    },
    {
     "name": "stdout",
     "output_type": "stream",
     "text": [
      "protein_after_batch_Limma.csv\n",
      "ISAS\n",
      "Limma\n",
      "swissprot_homo_201604\n",
      "Saccharomyces cerevisiae_201602\n",
      "uniprot-Ecoli_K12_201709\n"
     ]
    },
    {
     "name": "stderr",
     "output_type": "stream",
     "text": [
      "\n",
      "载入程辑包：‘cowplot’\n",
      "\n",
      "The following object is masked from ‘package:ggpubr’:\n",
      "\n",
      "    get_legend\n",
      "\n"
     ]
    },
    {
     "name": "stdout",
     "output_type": "stream",
     "text": [
      "SIMM\n",
      "Limma\n",
      "swissprot_homo_201604\n",
      "Saccharomyces cerevisiae_201602\n",
      "uniprot-Ecoli_K12_201709\n"
     ]
    },
    {
     "name": "stderr",
     "output_type": "stream",
     "text": [
      "\n",
      "载入程辑包：‘cowplot’\n",
      "\n",
      "The following object is masked from ‘package:ggpubr’:\n",
      "\n",
      "    get_legend\n",
      "\n"
     ]
    },
    {
     "name": "stdout",
     "output_type": "stream",
     "text": [
      "WHIRC\n",
      "Limma\n",
      "swissprot_homo_201604\n",
      "Saccharomyces cerevisiae_201602\n",
      "uniprot-Ecoli_K12_201709\n"
     ]
    },
    {
     "name": "stderr",
     "output_type": "stream",
     "text": [
      "\n",
      "载入程辑包：‘cowplot’\n",
      "\n",
      "The following object is masked from ‘package:ggpubr’:\n",
      "\n",
      "    get_legend\n",
      "\n"
     ]
    },
    {
     "name": "stdout",
     "output_type": "stream",
     "text": [
      "ASround1\n",
      "Limma\n",
      "swissprot_homo_201604\n",
      "Saccharomyces cerevisiae_201602\n",
      "uniprot-Ecoli_K12_201709\n"
     ]
    },
    {
     "name": "stderr",
     "output_type": "stream",
     "text": [
      "\n",
      "载入程辑包：‘cowplot’\n",
      "\n",
      "The following object is masked from ‘package:ggpubr’:\n",
      "\n",
      "    get_legend\n",
      "\n"
     ]
    },
    {
     "name": "stdout",
     "output_type": "stream",
     "text": [
      "UniSyd\n",
      "Limma\n",
      "swissprot_homo_201604\n",
      "Saccharomyces cerevisiae_201602\n",
      "uniprot-Ecoli_K12_201709\n"
     ]
    },
    {
     "name": "stderr",
     "output_type": "stream",
     "text": [
      "\n",
      "载入程辑包：‘cowplot’\n",
      "\n",
      "The following object is masked from ‘package:ggpubr’:\n",
      "\n",
      "    get_legend\n",
      "\n"
     ]
    },
    {
     "name": "stdout",
     "output_type": "stream",
     "text": [
      "BGI\n",
      "Limma\n",
      "swissprot_homo_201604\n",
      "Saccharomyces cerevisiae_201602\n",
      "uniprot-Ecoli_K12_201709\n"
     ]
    },
    {
     "name": "stderr",
     "output_type": "stream",
     "text": [
      "\n",
      "载入程辑包：‘cowplot’\n",
      "\n",
      "The following object is masked from ‘package:ggpubr’:\n",
      "\n",
      "    get_legend\n",
      "\n"
     ]
    },
    {
     "name": "stdout",
     "output_type": "stream",
     "text": [
      "MRL\n",
      "Limma\n",
      "swissprot_homo_201604\n",
      "Saccharomyces cerevisiae_201602\n",
      "uniprot-Ecoli_K12_201709\n"
     ]
    },
    {
     "name": "stderr",
     "output_type": "stream",
     "text": [
      "\n",
      "载入程辑包：‘cowplot’\n",
      "\n",
      "The following object is masked from ‘package:ggpubr’:\n",
      "\n",
      "    get_legend\n",
      "\n"
     ]
    },
    {
     "name": "stdout",
     "output_type": "stream",
     "text": [
      "VUMC\n",
      "Limma\n",
      "swissprot_homo_201604\n",
      "Saccharomyces cerevisiae_201602\n",
      "uniprot-Ecoli_K12_201709\n"
     ]
    },
    {
     "name": "stderr",
     "output_type": "stream",
     "text": [
      "\n",
      "载入程辑包：‘cowplot’\n",
      "\n",
      "The following object is masked from ‘package:ggpubr’:\n",
      "\n",
      "    get_legend\n",
      "\n"
     ]
    },
    {
     "name": "stdout",
     "output_type": "stream",
     "text": [
      "ASround2\n",
      "Limma\n",
      "swissprot_homo_201604\n",
      "Saccharomyces cerevisiae_201602\n",
      "uniprot-Ecoli_K12_201709\n"
     ]
    },
    {
     "name": "stderr",
     "output_type": "stream",
     "text": [
      "\n",
      "载入程辑包：‘cowplot’\n",
      "\n",
      "The following object is masked from ‘package:ggpubr’:\n",
      "\n",
      "    get_legend\n",
      "\n"
     ]
    },
    {
     "name": "stdout",
     "output_type": "stream",
     "text": [
      "KISL\n",
      "Limma\n",
      "swissprot_homo_201604\n",
      "Saccharomyces cerevisiae_201602\n",
      "uniprot-Ecoli_K12_201709\n"
     ]
    },
    {
     "name": "stderr",
     "output_type": "stream",
     "text": [
      "\n",
      "载入程辑包：‘cowplot’\n",
      "\n",
      "The following object is masked from ‘package:ggpubr’:\n",
      "\n",
      "    get_legend\n",
      "\n"
     ]
    },
    {
     "name": "stdout",
     "output_type": "stream",
     "text": [
      "FMMU\n",
      "Limma\n",
      "swissprot_homo_201604\n",
      "Saccharomyces cerevisiae_201602\n",
      "uniprot-Ecoli_K12_201709\n"
     ]
    },
    {
     "name": "stderr",
     "output_type": "stream",
     "text": [
      "\n",
      "载入程辑包：‘cowplot’\n",
      "\n",
      "The following object is masked from ‘package:ggpubr’:\n",
      "\n",
      "    get_legend\n",
      "\n"
     ]
    },
    {
     "name": "stdout",
     "output_type": "stream",
     "text": [
      "ETH\n",
      "Limma\n",
      "swissprot_homo_201604\n",
      "Saccharomyces cerevisiae_201602\n",
      "uniprot-Ecoli_K12_201709\n"
     ]
    },
    {
     "name": "stderr",
     "output_type": "stream",
     "text": [
      "\n",
      "载入程辑包：‘cowplot’\n",
      "\n",
      "The following object is masked from ‘package:ggpubr’:\n",
      "\n",
      "    get_legend\n",
      "\n"
     ]
    },
    {
     "name": "stdout",
     "output_type": "stream",
     "text": [
      "protein_after_batch_Median-Norm.csv\n",
      "ISAS\n",
      "Median-Norm\n",
      "swissprot_homo_201604\n",
      "Saccharomyces cerevisiae_201602\n",
      "uniprot-Ecoli_K12_201709\n"
     ]
    },
    {
     "name": "stderr",
     "output_type": "stream",
     "text": [
      "\n",
      "载入程辑包：‘cowplot’\n",
      "\n",
      "The following object is masked from ‘package:ggpubr’:\n",
      "\n",
      "    get_legend\n",
      "\n"
     ]
    },
    {
     "name": "stdout",
     "output_type": "stream",
     "text": [
      "SIMM\n",
      "Median-Norm\n",
      "swissprot_homo_201604\n",
      "Saccharomyces cerevisiae_201602\n",
      "uniprot-Ecoli_K12_201709\n"
     ]
    },
    {
     "name": "stderr",
     "output_type": "stream",
     "text": [
      "\n",
      "载入程辑包：‘cowplot’\n",
      "\n",
      "The following object is masked from ‘package:ggpubr’:\n",
      "\n",
      "    get_legend\n",
      "\n"
     ]
    },
    {
     "name": "stdout",
     "output_type": "stream",
     "text": [
      "WHIRC\n",
      "Median-Norm\n",
      "swissprot_homo_201604\n",
      "Saccharomyces cerevisiae_201602\n",
      "uniprot-Ecoli_K12_201709\n"
     ]
    },
    {
     "name": "stderr",
     "output_type": "stream",
     "text": [
      "\n",
      "载入程辑包：‘cowplot’\n",
      "\n",
      "The following object is masked from ‘package:ggpubr’:\n",
      "\n",
      "    get_legend\n",
      "\n"
     ]
    },
    {
     "name": "stdout",
     "output_type": "stream",
     "text": [
      "ASround1\n",
      "Median-Norm\n",
      "swissprot_homo_201604\n",
      "Saccharomyces cerevisiae_201602\n",
      "uniprot-Ecoli_K12_201709\n"
     ]
    },
    {
     "name": "stderr",
     "output_type": "stream",
     "text": [
      "\n",
      "载入程辑包：‘cowplot’\n",
      "\n",
      "The following object is masked from ‘package:ggpubr’:\n",
      "\n",
      "    get_legend\n",
      "\n"
     ]
    },
    {
     "name": "stdout",
     "output_type": "stream",
     "text": [
      "UniSyd\n",
      "Median-Norm\n",
      "swissprot_homo_201604\n",
      "Saccharomyces cerevisiae_201602\n",
      "uniprot-Ecoli_K12_201709\n"
     ]
    },
    {
     "name": "stderr",
     "output_type": "stream",
     "text": [
      "\n",
      "载入程辑包：‘cowplot’\n",
      "\n",
      "The following object is masked from ‘package:ggpubr’:\n",
      "\n",
      "    get_legend\n",
      "\n"
     ]
    },
    {
     "name": "stdout",
     "output_type": "stream",
     "text": [
      "BGI\n",
      "Median-Norm\n",
      "swissprot_homo_201604\n",
      "Saccharomyces cerevisiae_201602\n",
      "uniprot-Ecoli_K12_201709\n"
     ]
    },
    {
     "name": "stderr",
     "output_type": "stream",
     "text": [
      "\n",
      "载入程辑包：‘cowplot’\n",
      "\n",
      "The following object is masked from ‘package:ggpubr’:\n",
      "\n",
      "    get_legend\n",
      "\n"
     ]
    },
    {
     "name": "stdout",
     "output_type": "stream",
     "text": [
      "MRL\n",
      "Median-Norm\n",
      "swissprot_homo_201604\n",
      "Saccharomyces cerevisiae_201602\n",
      "uniprot-Ecoli_K12_201709\n"
     ]
    },
    {
     "name": "stderr",
     "output_type": "stream",
     "text": [
      "\n",
      "载入程辑包：‘cowplot’\n",
      "\n",
      "The following object is masked from ‘package:ggpubr’:\n",
      "\n",
      "    get_legend\n",
      "\n"
     ]
    },
    {
     "name": "stdout",
     "output_type": "stream",
     "text": [
      "VUMC\n",
      "Median-Norm\n",
      "swissprot_homo_201604\n",
      "Saccharomyces cerevisiae_201602\n",
      "uniprot-Ecoli_K12_201709\n"
     ]
    },
    {
     "name": "stderr",
     "output_type": "stream",
     "text": [
      "\n",
      "载入程辑包：‘cowplot’\n",
      "\n",
      "The following object is masked from ‘package:ggpubr’:\n",
      "\n",
      "    get_legend\n",
      "\n"
     ]
    },
    {
     "name": "stdout",
     "output_type": "stream",
     "text": [
      "ASround2\n",
      "Median-Norm\n",
      "swissprot_homo_201604\n",
      "Saccharomyces cerevisiae_201602\n",
      "uniprot-Ecoli_K12_201709\n"
     ]
    },
    {
     "name": "stderr",
     "output_type": "stream",
     "text": [
      "\n",
      "载入程辑包：‘cowplot’\n",
      "\n",
      "The following object is masked from ‘package:ggpubr’:\n",
      "\n",
      "    get_legend\n",
      "\n"
     ]
    },
    {
     "name": "stdout",
     "output_type": "stream",
     "text": [
      "KISL\n",
      "Median-Norm\n",
      "swissprot_homo_201604\n",
      "Saccharomyces cerevisiae_201602\n",
      "uniprot-Ecoli_K12_201709\n"
     ]
    },
    {
     "name": "stderr",
     "output_type": "stream",
     "text": [
      "\n",
      "载入程辑包：‘cowplot’\n",
      "\n",
      "The following object is masked from ‘package:ggpubr’:\n",
      "\n",
      "    get_legend\n",
      "\n"
     ]
    },
    {
     "name": "stdout",
     "output_type": "stream",
     "text": [
      "FMMU\n",
      "Median-Norm\n",
      "swissprot_homo_201604\n",
      "Saccharomyces cerevisiae_201602\n",
      "uniprot-Ecoli_K12_201709\n"
     ]
    },
    {
     "name": "stderr",
     "output_type": "stream",
     "text": [
      "\n",
      "载入程辑包：‘cowplot’\n",
      "\n",
      "The following object is masked from ‘package:ggpubr’:\n",
      "\n",
      "    get_legend\n",
      "\n"
     ]
    },
    {
     "name": "stdout",
     "output_type": "stream",
     "text": [
      "ETH\n",
      "Median-Norm\n",
      "swissprot_homo_201604\n",
      "Saccharomyces cerevisiae_201602\n",
      "uniprot-Ecoli_K12_201709\n"
     ]
    },
    {
     "name": "stderr",
     "output_type": "stream",
     "text": [
      "\n",
      "载入程辑包：‘cowplot’\n",
      "\n",
      "The following object is masked from ‘package:ggpubr’:\n",
      "\n",
      "    get_legend\n",
      "\n"
     ]
    }
   ],
   "source": [
    "save_path = \"/home/zhl/projects/batch_effect_correction/new_results/Ratio_singlelab/\"\n",
    "protein_dir = \"/home/zhl/projects/batch_effect_correction/new_results/protein_after_batch/\"\n",
    "file_dirs = os.listdir(protein_dir)\n",
    "files = [i for i in file_dirs if os.path.splitext(i)[1] == '.csv']\n",
    "group_labs = group.drop_duplicates(subset=1)\n",
    "group_labs[0] = group[0].str.replace(\"_.*\",\"\")\n",
    "species_dirs = [\"swissprot_homo_201604\",\"Saccharomyces cerevisiae_201602\",\"uniprot-Ecoli_K12_201709\"]\n",
    "for i in files:\n",
    "    print(i)\n",
    "    method = i.split(\"protein_after_batch_\")[1].split(\".csv\")[0]\n",
    "    df = pd.read_csv(os.path.join(protein_dir,i),index_col=0)\n",
    "    for lab in labs:\n",
    "        Ratio_data = pd.DataFrame(index= df.index)\n",
    "        print(lab)\n",
    "        print(method)\n",
    "        for species in species_dirs:\n",
    "            print(species)\n",
    "            A = df.columns[(df.columns.str.contains(\"_A_\"))&df.columns.str.contains(lab)]\n",
    "            B = df.columns[(df.columns.str.contains(\"_B_\"))&df.columns.str.contains(lab)]\n",
    "            df_A = df.loc[df[\"PG.FASTAName\"]==species,:]\n",
    "            df_A = df_A[A]\n",
    "            df_B = df.loc[df[\"PG.FASTAName\"]==species,:]\n",
    "            df_B = df_B[B]\n",
    "            \n",
    "            df_AB = pd.merge(df_A,df_B,left_index=True,right_index=True)\n",
    "            df_median = np.log2(df_AB.T.median())\n",
    "            \n",
    "            df_ratio = df_AB[df_AB.columns[df_AB.columns.str.contains(\"_A_\")]].T.median() / df_AB[df_AB.columns[df_AB.columns.str.contains(\"_B_\")]].T.median()\n",
    "            df_ratio = np.log2(df_ratio)\n",
    "            Ratio_data[species+\"_median\"] = df_median\n",
    "            Ratio_data[species] = df_ratio\n",
    "        lab_ = group_labs[group_labs[0]==lab]\n",
    "        lab = lab_.iloc[0,1]\n",
    "        Ratio_data.to_csv(os.path.join(save_path,\"Protein_Ratio_\"+lab+\"_\"+method+\".csv\"))\n",
    "        os.system('Rscript /home/zhl/projects/batch_effect_correction/new_results/R/8.Ratio_density.R {0} {1} {2}'.format(os.path.join(save_path,\"Protein_Ratio_\"+lab+\"_\"+method+\".csv\"),\n",
    "                                                                                               os.path.join(save_path,lab+\"_\"+method+\".pdf\"),\n",
    "                                                                                               os.path.join(save_path,lab+\"_\"+method+\".png\")))\n",
    "          "
   ]
  },
  {
   "cell_type": "markdown",
   "id": "09f25037",
   "metadata": {},
   "source": [
    "# <font color=green>TOP3 RATIO"
   ]
  },
  {
   "cell_type": "markdown",
   "id": "e8431a22",
   "metadata": {},
   "source": [
    "No impute"
   ]
  },
  {
   "cell_type": "code",
   "execution_count": null,
   "id": "00e1724d",
   "metadata": {},
   "outputs": [],
   "source": [
    "'''\n",
    "缺失值填充\n",
    "lab_pep = pd.read_table(\"/home/boot/Script/test/batch_pipeline/batch_effect_correction/NC/Ratio_method/single_lab/proteins_1-Sample_Report.xls\",\n",
    "                       na_values='Filtered')\n",
    "lab_pep.index = lab_pep[\"PG.ProteinGroups\"]\n",
    "lab_pep_num = lab_pep.iloc[:,5:]\n",
    "lab_pep_num[lab_pep_num <= 100] = np.nan\n",
    "lab_pep_num.dropna(axis=0,thresh=lab_pep_num.shape[1]*0.5,inplace = True)\n",
    "#lab_pep_num.dropna(axis=0,how=\"any\",inplace = True)\n",
    "lab_pep_num = lab_pep_num.T\n",
    "lab_pep_impute = fancyimpute.KNN(k=3).fit_transform(lab_pep_num.values) #knn按列进行填充\n",
    "lab_pep_impute = pd.DataFrame(lab_pep_impute, columns=list(lab_pep_num.columns), index=lab_pep_num.index).T\n",
    "lab_pep = pd.merge(lab_pep.loc[:,[\"PG.ProteinGroups\",\"PG.Organisms\"]],lab_pep_impute,\n",
    "                         how=\"right\",left_index = True,right_index = True)\n",
    "lab_pep.reset_index(drop=True,inplace=True)'''\n",
    "\n"
   ]
  },
  {
   "cell_type": "markdown",
   "id": "14c63ef0",
   "metadata": {},
   "source": [
    "# Precision"
   ]
  },
  {
   "cell_type": "code",
   "execution_count": 3,
   "id": "e6319573",
   "metadata": {
    "ExecuteTime": {
     "end_time": "2022-09-13T02:49:46.078345Z",
     "start_time": "2022-09-13T02:49:45.862407Z"
    },
    "collapsed": true
   },
   "outputs": [
    {
     "data": {
      "text/html": [
       "<div>\n",
       "<style scoped>\n",
       "    .dataframe tbody tr th:only-of-type {\n",
       "        vertical-align: middle;\n",
       "    }\n",
       "\n",
       "    .dataframe tbody tr th {\n",
       "        vertical-align: top;\n",
       "    }\n",
       "\n",
       "    .dataframe thead th {\n",
       "        text-align: right;\n",
       "    }\n",
       "</style>\n",
       "<table border=\"1\" class=\"dataframe\">\n",
       "  <thead>\n",
       "    <tr style=\"text-align: right;\">\n",
       "      <th></th>\n",
       "      <th>0</th>\n",
       "      <th>1</th>\n",
       "    </tr>\n",
       "  </thead>\n",
       "  <tbody>\n",
       "    <tr>\n",
       "      <th>0</th>\n",
       "      <td>FMMU_Day_1_A_rep_1</td>\n",
       "      <td>Lab1</td>\n",
       "    </tr>\n",
       "    <tr>\n",
       "      <th>1</th>\n",
       "      <td>FMMU_Day_1_A_rep_2</td>\n",
       "      <td>Lab1</td>\n",
       "    </tr>\n",
       "    <tr>\n",
       "      <th>2</th>\n",
       "      <td>FMMU_Day_1_A_rep_3</td>\n",
       "      <td>Lab1</td>\n",
       "    </tr>\n",
       "    <tr>\n",
       "      <th>3</th>\n",
       "      <td>FMMU_Day_1_B_rep_1</td>\n",
       "      <td>Lab1</td>\n",
       "    </tr>\n",
       "    <tr>\n",
       "      <th>4</th>\n",
       "      <td>FMMU_Day_1_B_rep_2</td>\n",
       "      <td>Lab1</td>\n",
       "    </tr>\n",
       "    <tr>\n",
       "      <th>...</th>\n",
       "      <td>...</td>\n",
       "      <td>...</td>\n",
       "    </tr>\n",
       "    <tr>\n",
       "      <th>300</th>\n",
       "      <td>MRL_Day_7_A_Rep_2</td>\n",
       "      <td>Lab11</td>\n",
       "    </tr>\n",
       "    <tr>\n",
       "      <th>301</th>\n",
       "      <td>MRL_Day_7_A_Rep_3</td>\n",
       "      <td>Lab11</td>\n",
       "    </tr>\n",
       "    <tr>\n",
       "      <th>302</th>\n",
       "      <td>MRL_Day_7_B_Rep_1</td>\n",
       "      <td>Lab11</td>\n",
       "    </tr>\n",
       "    <tr>\n",
       "      <th>303</th>\n",
       "      <td>MRL_Day_7_B_Rep_2</td>\n",
       "      <td>Lab11</td>\n",
       "    </tr>\n",
       "    <tr>\n",
       "      <th>304</th>\n",
       "      <td>MRL_Day_7_B_Rep_3</td>\n",
       "      <td>Lab11</td>\n",
       "    </tr>\n",
       "  </tbody>\n",
       "</table>\n",
       "<p>305 rows × 2 columns</p>\n",
       "</div>"
      ],
      "text/plain": [
       "                      0      1\n",
       "0    FMMU_Day_1_A_rep_1   Lab1\n",
       "1    FMMU_Day_1_A_rep_2   Lab1\n",
       "2    FMMU_Day_1_A_rep_3   Lab1\n",
       "3    FMMU_Day_1_B_rep_1   Lab1\n",
       "4    FMMU_Day_1_B_rep_2   Lab1\n",
       "..                  ...    ...\n",
       "300   MRL_Day_7_A_Rep_2  Lab11\n",
       "301   MRL_Day_7_A_Rep_3  Lab11\n",
       "302   MRL_Day_7_B_Rep_1  Lab11\n",
       "303   MRL_Day_7_B_Rep_2  Lab11\n",
       "304   MRL_Day_7_B_Rep_3  Lab11\n",
       "\n",
       "[305 rows x 2 columns]"
      ]
     },
     "execution_count": 3,
     "metadata": {},
     "output_type": "execute_result"
    }
   ],
   "source": [
    "MSFile = pd.read_csv('/home/zhl/projects/batch_effect_correction/new_results/protein_after_batch/protein_after_batch_RUVIII.csv',low_memory=False)\n",
    "group=pd.read_excel(\"/home/zhl/projects/batch_effect_correction/new_results/group_new.xls\",header=None)\n",
    "group = group.iloc[1:,0:2]\n",
    "group = group.merge(pd.DataFrame(MSFile.columns,columns=[0]))\n",
    "group"
   ]
  },
  {
   "cell_type": "code",
   "execution_count": 7,
   "id": "fd154629",
   "metadata": {
    "ExecuteTime": {
     "end_time": "2022-09-13T07:37:23.668875Z",
     "start_time": "2022-09-13T07:37:23.520498Z"
    }
   },
   "outputs": [],
   "source": [
    "path = \"/home/zhl/projects/batch_effect_correction/new_results/protein_after_batch\"\n",
    "lab_pro = pd.read_csv(os.path.join(path,\"protein_after_batch_raw.csv\"))\n",
    "#lab_pro = pd.read_csv(os.path.join(path,\"Protein_filter_MVI0.4.csv\"),na_values='Filtered')\n",
    "cols = [i for i in list(lab_pro.columns) if \"Day\" in i]"
   ]
  },
  {
   "cell_type": "code",
   "execution_count": 8,
   "id": "0f8208b1",
   "metadata": {
    "ExecuteTime": {
     "end_time": "2022-09-13T07:37:24.075654Z",
     "start_time": "2022-09-13T07:37:24.071726Z"
    }
   },
   "outputs": [],
   "source": [
    "labs = []\n",
    "for col in cols:\n",
    "    lab = col.split(\"_\",1)[0]\n",
    "    labs.append(lab)\n",
    "labs = list(set(labs))"
   ]
  },
  {
   "cell_type": "code",
   "execution_count": null,
   "id": "91ebc16e",
   "metadata": {},
   "outputs": [],
   "source": [
    "save_path = \"/home/zhl/projects/batch_effect_correction/new_results/precision/\"\n",
    "protein_dir = \"/home/zhl/projects/batch_effect_correction/new_results/protein_after_batch/\"\n",
    "file_dirs = os.listdir(protein_dir)\n",
    "files = [i for i in file_dirs if os.path.splitext(i)[1] == '.csv']\n",
    "group_labs = group.drop_duplicates(subset=1)\n",
    "group_labs[0] = group[0].str.replace(\"_.*\",\"\")\n",
    "species_dirs = [\"swissprot_homo_201604\",\"Saccharomyces cerevisiae_201602\",\"uniprot-Ecoli_K12_201709\"]"
   ]
  },
  {
   "cell_type": "code",
   "execution_count": 99,
   "id": "1bd2f705",
   "metadata": {
    "ExecuteTime": {
     "end_time": "2022-09-13T10:08:05.112192Z",
     "start_time": "2022-09-13T10:04:33.295521Z"
    },
    "collapsed": true
   },
   "outputs": [
    {
     "name": "stdout",
     "output_type": "stream",
     "text": [
      "protein_after_batch_RUVIII.csv\n",
      "swissprot_homo_201604\n",
      "Saccharomyces cerevisiae_201602\n",
      "uniprot-Ecoli_K12_201709\n",
      "protein_after_batch_RUVg.csv\n",
      "swissprot_homo_201604\n",
      "Saccharomyces cerevisiae_201602\n",
      "uniprot-Ecoli_K12_201709\n",
      "protein_after_batch_Combat.csv\n",
      "swissprot_homo_201604\n",
      "Saccharomyces cerevisiae_201602\n",
      "uniprot-Ecoli_K12_201709\n",
      "protein_after_batch_QC-Mnorm.csv\n",
      "swissprot_homo_201604\n",
      "Saccharomyces cerevisiae_201602\n",
      "uniprot-Ecoli_K12_201709\n",
      "protein_after_batch_raw.csv\n",
      "swissprot_homo_201604\n",
      "Saccharomyces cerevisiae_201602\n",
      "uniprot-Ecoli_K12_201709\n",
      "protein_after_batch_RUVs.csv\n",
      "swissprot_homo_201604\n",
      "Saccharomyces cerevisiae_201602\n",
      "uniprot-Ecoli_K12_201709\n",
      "protein_after_batch_Median-Norm.csv\n",
      "swissprot_homo_201604\n",
      "Saccharomyces cerevisiae_201602\n",
      "uniprot-Ecoli_K12_201709\n"
     ]
    }
   ],
   "source": [
    "df_rsd_median = pd.DataFrame(columns=[\"method\",\"species\",\"median rsd\"])\n",
    "for i in files:\n",
    "    print(i)\n",
    "    method = i.split(\"protein_after_batch_\")[1].split(\".csv\")[0]\n",
    "    df = pd.read_csv(os.path.join(protein_dir,i),index_col=0)\n",
    " \n",
    "    subgroup = group[group[0].str.contains(\"_A_\")]\n",
    "    rsd_data = pd.DataFrame()\n",
    "    for species in species_dirs:\n",
    "        print(species)\n",
    "        A_sample = df.columns[(df.columns.str.contains(\"_A_\"))]\n",
    "        df_A = df.loc[df[\"PG.FASTAName\"]==species,:]\n",
    "        df_A = df_A[A_sample]\n",
    "        group2sample = subgroup.groupby(1,as_index=False)\n",
    "        \n",
    "        for key, value in group2sample:\n",
    "            Value = list(value[0])\n",
    "            sub_rsd_data = df_A[Value].apply(lambda x: np.std(x[Value], ddof=1) / np.mean(x[Value]),axis=1)\n",
    "            sub_rsd_data = pd.DataFrame(sub_rsd_data)\n",
    "        sub_rsd_data[\"species\"] = species\n",
    "        sub_rsd_data.columns = [\"RSD\",\"species\"]\n",
    "        rsd_data = pd.concat([rsd_data,sub_rsd_data])\n",
    "        \n",
    "        median_rsd = np.median(np.median(sub_rsd_data[\"RSD\"]))\n",
    "        s_df_rsd_median = pd.DataFrame({\"method\":method,\"species\":species,\"median rsd\":median_rsd},index=[0])\n",
    "        df_rsd_median = pd.concat([df_rsd_median,s_df_rsd_median])\n",
    "\n",
    "    #break\n",
    "    rsd_data.to_csv(os.path.join(save_path, 'rsd_A_'+i))\n",
    "df_rsd_median.to_csv(os.path.join(save_path, 'rsd_median_A.csv'),index=None)\n",
    "    #np.median(rsd_data[rsd_data[\"species\"]==\"swissprot_homo_201604\"].loc[:,\"RSD\"])"
   ]
  },
  {
   "cell_type": "code",
   "execution_count": 100,
   "id": "8e7356ad",
   "metadata": {
    "ExecuteTime": {
     "end_time": "2022-09-13T10:11:37.094683Z",
     "start_time": "2022-09-13T10:08:05.193151Z"
    },
    "scrolled": true
   },
   "outputs": [
    {
     "name": "stdout",
     "output_type": "stream",
     "text": [
      "protein_after_batch_RUVIII.csv\n",
      "swissprot_homo_201604\n",
      "Saccharomyces cerevisiae_201602\n",
      "uniprot-Ecoli_K12_201709\n",
      "protein_after_batch_RUVg.csv\n",
      "swissprot_homo_201604\n",
      "Saccharomyces cerevisiae_201602\n",
      "uniprot-Ecoli_K12_201709\n",
      "protein_after_batch_Combat.csv\n",
      "swissprot_homo_201604\n",
      "Saccharomyces cerevisiae_201602\n",
      "uniprot-Ecoli_K12_201709\n",
      "protein_after_batch_QC-Mnorm.csv\n",
      "swissprot_homo_201604\n",
      "Saccharomyces cerevisiae_201602\n",
      "uniprot-Ecoli_K12_201709\n",
      "protein_after_batch_raw.csv\n",
      "swissprot_homo_201604\n",
      "Saccharomyces cerevisiae_201602\n",
      "uniprot-Ecoli_K12_201709\n",
      "protein_after_batch_RUVs.csv\n",
      "swissprot_homo_201604\n",
      "Saccharomyces cerevisiae_201602\n",
      "uniprot-Ecoli_K12_201709\n",
      "protein_after_batch_Median-Norm.csv\n",
      "swissprot_homo_201604\n",
      "Saccharomyces cerevisiae_201602\n",
      "uniprot-Ecoli_K12_201709\n"
     ]
    }
   ],
   "source": [
    "df_rsd_median = pd.DataFrame(columns=[\"method\",\"species\",\"median rsd\"])\n",
    "for i in files:\n",
    "    print(i)\n",
    "    method = i.split(\"protein_after_batch_\")[1].split(\".csv\")[0]\n",
    "    df = pd.read_csv(os.path.join(protein_dir,i),index_col=0)\n",
    " \n",
    "    subgroup = group[group[0].str.contains(\"_B_\")]\n",
    "    rsd_data = pd.DataFrame()\n",
    "    for species in species_dirs:\n",
    "        print(species)\n",
    "        A_sample = df.columns[(df.columns.str.contains(\"_B_\"))]\n",
    "        df_A = df.loc[df[\"PG.FASTAName\"]==species,:]\n",
    "        df_A = df_A[A_sample]\n",
    "        group2sample = subgroup.groupby(1,as_index=False)\n",
    "        \n",
    "        for key, value in group2sample:\n",
    "            Value = list(value[0])\n",
    "            sub_rsd_data = df_A[Value].apply(lambda x: np.std(x[Value], ddof=1) / np.mean(x[Value]),axis=1)\n",
    "            sub_rsd_data = pd.DataFrame(sub_rsd_data)\n",
    "        sub_rsd_data[\"species\"] = species\n",
    "        sub_rsd_data.columns = [\"RSD\",\"species\"]\n",
    "        rsd_data = pd.concat([rsd_data,sub_rsd_data])\n",
    "        \n",
    "        median_rsd = np.median(np.median(sub_rsd_data[\"RSD\"]))\n",
    "        s_df_rsd_median = pd.DataFrame({\"method\":method,\"species\":species,\"median rsd\":median_rsd},index=[0])\n",
    "        df_rsd_median = pd.concat([df_rsd_median,s_df_rsd_median])\n",
    "\n",
    "    #break\n",
    "    rsd_data.to_csv(os.path.join(save_path, 'rsd_B_'+i))\n",
    "df_rsd_median.to_csv(os.path.join(save_path, 'rsd_median_B.csv'),index=None)\n"
   ]
  },
  {
   "cell_type": "code",
   "execution_count": 97,
   "id": "50b92a2f",
   "metadata": {
    "ExecuteTime": {
     "end_time": "2022-09-13T09:57:39.740915Z",
     "start_time": "2022-09-13T09:57:39.737172Z"
    }
   },
   "outputs": [],
   "source": [
    "df_rsd_median.to_csv(os.path.join(save_path, 'rsd_median_A.csv'),index=None)"
   ]
  },
  {
   "cell_type": "code",
   "execution_count": 116,
   "id": "8f8d70af",
   "metadata": {
    "ExecuteTime": {
     "end_time": "2022-09-14T06:48:13.309274Z",
     "start_time": "2022-09-14T06:48:13.304007Z"
    }
   },
   "outputs": [
    {
     "data": {
      "text/html": [
       "<div>\n",
       "<style scoped>\n",
       "    .dataframe tbody tr th:only-of-type {\n",
       "        vertical-align: middle;\n",
       "    }\n",
       "\n",
       "    .dataframe tbody tr th {\n",
       "        vertical-align: top;\n",
       "    }\n",
       "\n",
       "    .dataframe thead th {\n",
       "        text-align: right;\n",
       "    }\n",
       "</style>\n",
       "<table border=\"1\" class=\"dataframe\">\n",
       "  <thead>\n",
       "    <tr style=\"text-align: right;\">\n",
       "      <th></th>\n",
       "      <th>Protein</th>\n",
       "      <th>RSD</th>\n",
       "      <th>species</th>\n",
       "    </tr>\n",
       "  </thead>\n",
       "  <tbody>\n",
       "    <tr>\n",
       "      <th>0</th>\n",
       "      <td>A0A0B4J2F0</td>\n",
       "      <td>0.095190</td>\n",
       "      <td>swissprot_homo_201604</td>\n",
       "    </tr>\n",
       "    <tr>\n",
       "      <th>1</th>\n",
       "      <td>A0AVT1</td>\n",
       "      <td>0.043000</td>\n",
       "      <td>swissprot_homo_201604</td>\n",
       "    </tr>\n",
       "    <tr>\n",
       "      <th>2</th>\n",
       "      <td>A0FGR8</td>\n",
       "      <td>0.098165</td>\n",
       "      <td>swissprot_homo_201604</td>\n",
       "    </tr>\n",
       "    <tr>\n",
       "      <th>3</th>\n",
       "      <td>A0JLT2</td>\n",
       "      <td>0.144951</td>\n",
       "      <td>swissprot_homo_201604</td>\n",
       "    </tr>\n",
       "    <tr>\n",
       "      <th>4</th>\n",
       "      <td>A0JNW5</td>\n",
       "      <td>0.493554</td>\n",
       "      <td>swissprot_homo_201604</td>\n",
       "    </tr>\n",
       "    <tr>\n",
       "      <th>...</th>\n",
       "      <td>...</td>\n",
       "      <td>...</td>\n",
       "      <td>...</td>\n",
       "    </tr>\n",
       "    <tr>\n",
       "      <th>5021</th>\n",
       "      <td>Q9Y6W3</td>\n",
       "      <td>0.204156</td>\n",
       "      <td>swissprot_homo_201604</td>\n",
       "    </tr>\n",
       "    <tr>\n",
       "      <th>5022</th>\n",
       "      <td>Q9Y6W5</td>\n",
       "      <td>0.202600</td>\n",
       "      <td>swissprot_homo_201604</td>\n",
       "    </tr>\n",
       "    <tr>\n",
       "      <th>5023</th>\n",
       "      <td>Q9Y6X3</td>\n",
       "      <td>0.260800</td>\n",
       "      <td>swissprot_homo_201604</td>\n",
       "    </tr>\n",
       "    <tr>\n",
       "      <th>5024</th>\n",
       "      <td>Q9Y6X9</td>\n",
       "      <td>0.125548</td>\n",
       "      <td>swissprot_homo_201604</td>\n",
       "    </tr>\n",
       "    <tr>\n",
       "      <th>5025</th>\n",
       "      <td>Q9Y6Y8</td>\n",
       "      <td>0.058648</td>\n",
       "      <td>swissprot_homo_201604</td>\n",
       "    </tr>\n",
       "  </tbody>\n",
       "</table>\n",
       "<p>10052 rows × 3 columns</p>\n",
       "</div>"
      ],
      "text/plain": [
       "         Protein       RSD                species\n",
       "0     A0A0B4J2F0  0.095190  swissprot_homo_201604\n",
       "1         A0AVT1  0.043000  swissprot_homo_201604\n",
       "2         A0FGR8  0.098165  swissprot_homo_201604\n",
       "3         A0JLT2  0.144951  swissprot_homo_201604\n",
       "4         A0JNW5  0.493554  swissprot_homo_201604\n",
       "...          ...       ...                    ...\n",
       "5021      Q9Y6W3  0.204156  swissprot_homo_201604\n",
       "5022      Q9Y6W5  0.202600  swissprot_homo_201604\n",
       "5023      Q9Y6X3  0.260800  swissprot_homo_201604\n",
       "5024      Q9Y6X9  0.125548  swissprot_homo_201604\n",
       "5025      Q9Y6Y8  0.058648  swissprot_homo_201604\n",
       "\n",
       "[10052 rows x 3 columns]"
      ]
     },
     "execution_count": 116,
     "metadata": {},
     "output_type": "execute_result"
    }
   ],
   "source": [
    "file_ab[file_ab[\"species\"]==\"swissprot_homo_201604\"]"
   ]
  },
  {
   "cell_type": "code",
   "execution_count": 127,
   "id": "9cb2dc2e",
   "metadata": {
    "ExecuteTime": {
     "end_time": "2022-09-14T07:07:46.865926Z",
     "start_time": "2022-09-14T07:07:46.669255Z"
    }
   },
   "outputs": [
    {
     "name": "stdout",
     "output_type": "stream",
     "text": [
      "raw\n",
      "human: 0.1\n",
      "yeast: 0.124\n",
      "ecoli: 0.131 \n",
      "\n",
      "Combat\n",
      "human: 0.123\n",
      "yeast: 0.154\n",
      "ecoli: 0.18 \n",
      "\n",
      "Median-Norm\n",
      "human: 0.133\n",
      "yeast: 0.155\n",
      "ecoli: 0.172 \n",
      "\n",
      "QC-Mnorm\n",
      "human: 0.151\n",
      "yeast: 0.174\n",
      "ecoli: 0.179 \n",
      "\n",
      "RUVs\n",
      "human: 0.155\n",
      "yeast: 0.244\n",
      "ecoli: 0.245 \n",
      "\n",
      "RUVg\n",
      "human: 0.111\n",
      "yeast: 0.14\n",
      "ecoli: 0.175 \n",
      "\n",
      "RUVIII\n",
      "human: 0.126\n",
      "yeast: 0.197\n",
      "ecoli: 0.316 \n",
      "\n"
     ]
    }
   ],
   "source": [
    "save_path = \"/home/zhl/projects/batch_effect_correction/new_results/precision/ab\"\n",
    "dirs = \"/home/zhl/projects/batch_effect_correction/new_results/precision/\"\n",
    "file_dirs = os.listdir(dirs)\n",
    "files = [i for i in file_dirs if \"protein_after_batch_\" in i]\n",
    "methods = [\"raw\",\"Combat\",\"Median-Norm\",\"QC-Mnorm\",\"RUVs\",\"RUVg\",\"RUVIII\"]\n",
    "for m in methods:\n",
    "    print(m)\n",
    "    file_method = [i for i in files if i.split(\"protein_after_batch_\")[1].split(\".csv\")[0]==m]\n",
    "    file_a = pd.read_csv(os.path.join(dirs,file_method[0]))\n",
    "    file_a[\"sample\"] = \"A\"\n",
    "    file_b = pd.read_csv(os.path.join(dirs,file_method[1]))\n",
    "    file_b[\"sample\"] = \"B\"\n",
    "    file_ab = pd.concat([file_a,file_b])\n",
    "    file_ab.to_csv(os.path.join(save_path,m + \"_rsd.csv\"),index=None)\n",
    "    rsd_human = file_ab[file_ab[\"species\"]==\"swissprot_homo_201604\"].loc[:,\"RSD\"]\n",
    "    rsd_yeast = file_ab[file_ab[\"species\"]==\"Saccharomyces cerevisiae_201602\"].loc[:,\"RSD\"]\n",
    "    rsd_ecoli = file_ab[file_ab[\"species\"]==\"uniprot-Ecoli_K12_201709\"].loc[:,\"RSD\"]\n",
    "    \n",
    "    rsd_median_human = np.median(rsd_human)\n",
    "    rsd_median_yeast = np.median(rsd_yeast)\n",
    "    rsd_median_ecoli = np.median(rsd_ecoli)\n",
    "    \n",
    "    print(\"human:\",round(rsd_median_human,3))\n",
    "    print(\"yeast:\",round(rsd_median_yeast,3))\n",
    "    print(\"ecoli:\",round(rsd_median_ecoli,3),\"\\n\")"
   ]
  },
  {
   "cell_type": "code",
   "execution_count": 140,
   "id": "5bef4ff4",
   "metadata": {
    "ExecuteTime": {
     "end_time": "2022-09-14T08:04:00.447341Z",
     "start_time": "2022-09-14T08:04:00.429034Z"
    }
   },
   "outputs": [
    {
     "data": {
      "text/plain": [
       "Ttest_indResult(statistic=5.144416758983781, pvalue=2.708744079802156e-07)"
      ]
     },
     "execution_count": 140,
     "metadata": {},
     "output_type": "execute_result"
    }
   ],
   "source": [
    "import scipy.stats as stats\n",
    "os.chdir(save_path)\n",
    "file_dirs = os.listdir(save_path)\n",
    "files = [i for i in file_dirs if i.split(\"_rsd\")[0]==\"Median-Norm\" or i.split(\"_rsd\")[0]==\"Combat\"]\n",
    "#methods = [\"raw\",\"Combat\",\"Median-Norm\",\"QC-Mnorm\",\"RUVs\",\"RUVg\",\"RUVIII\"]\n",
    "file_1 = pd.read_csv(files[0])\n",
    "file_2 = pd.read_csv(files[1])\n",
    "rsd_human1 = file_1[file_1[\"species\"]==\"swissprot_homo_201604\"].loc[:,\"RSD\"]\n",
    "rsd_human2 = file_2[file_2[\"species\"]==\"swissprot_homo_201604\"].loc[:,\"RSD\"]\n",
    "stats.wilcoxon(rsd_human1,rsd_human2,alternative='two-sided')\n",
    "stats.ttest_ind(rsd_human1,rsd_human2)\n",
    "#rsd_yeast = file_ab[file_ab[\"species\"]==\"Saccharomyces cerevisiae_201602\"].loc[:,\"RSD\"]\n",
    "#rsd_ecoli = file_ab[file_ab[\"species\"]==\"uniprot-Ecoli_K12_201709\"].loc[:,\"RSD\"]"
   ]
  }
 ],
 "metadata": {
  "interpreter": {
   "hash": "8d209e97ec908da0cde380fca676fed670771b865bc63fca91bd01daf0ab9c77"
  },
  "kernelspec": {
   "display_name": "Python [conda env:pipeline]",
   "language": "python",
   "name": "conda-env-pipeline-py"
  },
  "language_info": {
   "codemirror_mode": {
    "name": "ipython",
    "version": 3
   },
   "file_extension": ".py",
   "mimetype": "text/x-python",
   "name": "python",
   "nbconvert_exporter": "python",
   "pygments_lexer": "ipython3",
   "version": "3.8.13"
  },
  "toc": {
   "base_numbering": 1,
   "nav_menu": {},
   "number_sections": true,
   "sideBar": true,
   "skip_h1_title": false,
   "title_cell": "Table of Contents",
   "title_sidebar": "Contents",
   "toc_cell": false,
   "toc_position": {},
   "toc_section_display": true,
   "toc_window_display": false
  },
  "varInspector": {
   "cols": {
    "lenName": 16,
    "lenType": 16,
    "lenVar": 40
   },
   "kernels_config": {
    "python": {
     "delete_cmd_postfix": "",
     "delete_cmd_prefix": "del ",
     "library": "var_list.py",
     "varRefreshCmd": "print(var_dic_list())"
    },
    "r": {
     "delete_cmd_postfix": ") ",
     "delete_cmd_prefix": "rm(",
     "library": "var_list.r",
     "varRefreshCmd": "cat(var_dic_list()) "
    }
   },
   "types_to_exclude": [
    "module",
    "function",
    "builtin_function_or_method",
    "instance",
    "_Feature"
   ],
   "window_display": false
  }
 },
 "nbformat": 4,
 "nbformat_minor": 5
}
